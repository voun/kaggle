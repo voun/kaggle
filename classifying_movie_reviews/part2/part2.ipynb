{
 "cells": [
  {
   "cell_type": "code",
   "execution_count": 45,
   "metadata": {},
   "outputs": [],
   "source": [
    "import pandas as pd\n",
    "import numpy as np\n",
    "import re\n",
    "from bs4 import BeautifulSoup  \n",
    "from nltk.corpus import stopwords \n",
    "\n",
    "train = pd.read_csv(\"labeledTrainData.tsv\", header=0, delimiter=\"\\t\", quoting=3)\n",
    "test = pd.read_csv(\"testData.tsv\", header=0, delimiter=\"\\t\", quoting=3)\n",
    "unlabeled_train = pd.read_csv( \"unlabeledTrainData.tsv\", header=0, \n",
    " delimiter=\"\\t\", quoting=3 ) #contains no label. Will use these extra data to better learn context\n"
   ]
  },
  {
   "cell_type": "code",
   "execution_count": 46,
   "metadata": {},
   "outputs": [],
   "source": [
    "def clean_review(review): #now don't remove stop words as did in part 1 since they can capture semantic meaning\n",
    "    \n",
    "    review = BeautifulSoup(review).get_text()\n",
    "    review = re.sub(\"[^a-zA-Z]\", \" \", review)\n",
    "    review = review.lower().split()\n",
    "    \n",
    "    return review\n",
    "\n",
    "stops = stopwords.words(\"english\")\n",
    "\n",
    "def clean_review2(review):\n",
    "    \n",
    "    review = BeautifulSoup(review).get_text()\n",
    "    review = re.sub(\"[^a-zA-Z]\", \" \", review)\n",
    "    review = review.lower().split()\n",
    "    \n",
    "    review = [word for word in review if word not in stops]\n",
    "    \n",
    "    return review\n"
   ]
  },
  {
   "cell_type": "code",
   "execution_count": null,
   "metadata": {},
   "outputs": [],
   "source": []
  },
  {
   "cell_type": "code",
   "execution_count": 17,
   "metadata": {},
   "outputs": [],
   "source": [
    "import nltk.data\n",
    "#Word2Vec requires format to be a list of sentences where very sentence is a list of words. So\n",
    "#every text is represented as a list of lists.\n",
    "tokenizer = nltk.data.load('tokenizers/punkt/english.pickle') #use punkt tokenizer to split text into sentences\n",
    "\n",
    "def get_clean_sentences(review):\n",
    "    raw_sentences = tokenizer.tokenize(review) #get list of sentences\n",
    "    \n",
    "    clean_sentences = []\n",
    "    for raw_sentence in raw_sentences:\n",
    "        if len(raw_sentence) > 0:\n",
    "            clean_sentences += [clean_review(raw_sentence)]\n",
    "    return clean_sentences\n",
    "            \n"
   ]
  },
  {
   "cell_type": "code",
   "execution_count": null,
   "metadata": {},
   "outputs": [],
   "source": [
    "sentences = []\n",
    "for review in train[\"review\"]:\n",
    "    sentences += get_clean_sentences(review)\n",
    "for review in unlabeled_train[\"review\"]:\n",
    "    sentences += get_clean_sentences(review)\n"
   ]
  },
  {
   "cell_type": "code",
   "execution_count": null,
   "metadata": {},
   "outputs": [],
   "source": []
  },
  {
   "cell_type": "code",
   "execution_count": 25,
   "metadata": {},
   "outputs": [
    {
     "name": "stderr",
     "output_type": "stream",
     "text": [
      "2019-11-24 09:36:27,948 : INFO : collecting all words and their counts\n",
      "2019-11-24 09:36:27,949 : INFO : PROGRESS: at sentence #0, processed 0 words, keeping 0 word types\n",
      "2019-11-24 09:36:28,067 : INFO : PROGRESS: at sentence #10000, processed 225803 words, keeping 17776 word types\n",
      "2019-11-24 09:36:28,148 : INFO : PROGRESS: at sentence #20000, processed 451892 words, keeping 24948 word types\n",
      "2019-11-24 09:36:28,218 : INFO : PROGRESS: at sentence #30000, processed 671315 words, keeping 30034 word types\n",
      "2019-11-24 09:36:28,292 : INFO : PROGRESS: at sentence #40000, processed 897815 words, keeping 34348 word types\n",
      "2019-11-24 09:36:28,366 : INFO : PROGRESS: at sentence #50000, processed 1116963 words, keeping 37761 word types\n",
      "2019-11-24 09:36:28,439 : INFO : PROGRESS: at sentence #60000, processed 1338404 words, keeping 40723 word types\n",
      "2019-11-24 09:36:28,522 : INFO : PROGRESS: at sentence #70000, processed 1561580 words, keeping 43333 word types\n",
      "2019-11-24 09:36:28,613 : INFO : PROGRESS: at sentence #80000, processed 1780887 words, keeping 45714 word types\n",
      "2019-11-24 09:36:28,720 : INFO : PROGRESS: at sentence #90000, processed 2004996 words, keeping 48135 word types\n",
      "2019-11-24 09:36:28,842 : INFO : PROGRESS: at sentence #100000, processed 2226966 words, keeping 50207 word types\n",
      "2019-11-24 09:36:28,931 : INFO : PROGRESS: at sentence #110000, processed 2446580 words, keeping 52081 word types\n",
      "2019-11-24 09:36:29,018 : INFO : PROGRESS: at sentence #120000, processed 2668775 words, keeping 54119 word types\n",
      "2019-11-24 09:36:29,099 : INFO : PROGRESS: at sentence #130000, processed 2894303 words, keeping 55847 word types\n",
      "2019-11-24 09:36:29,177 : INFO : PROGRESS: at sentence #140000, processed 3107005 words, keeping 57346 word types\n",
      "2019-11-24 09:36:29,262 : INFO : PROGRESS: at sentence #150000, processed 3332627 words, keeping 59055 word types\n",
      "2019-11-24 09:36:29,337 : INFO : PROGRESS: at sentence #160000, processed 3555315 words, keeping 60617 word types\n",
      "2019-11-24 09:36:29,415 : INFO : PROGRESS: at sentence #170000, processed 3778655 words, keeping 62077 word types\n",
      "2019-11-24 09:36:29,511 : INFO : PROGRESS: at sentence #180000, processed 3999236 words, keeping 63496 word types\n",
      "2019-11-24 09:36:29,593 : INFO : PROGRESS: at sentence #190000, processed 4224449 words, keeping 64794 word types\n",
      "2019-11-24 09:36:29,669 : INFO : PROGRESS: at sentence #200000, processed 4448603 words, keeping 66087 word types\n",
      "2019-11-24 09:36:29,742 : INFO : PROGRESS: at sentence #210000, processed 4669967 words, keeping 67390 word types\n",
      "2019-11-24 09:36:29,820 : INFO : PROGRESS: at sentence #220000, processed 4894968 words, keeping 68697 word types\n",
      "2019-11-24 09:36:29,904 : INFO : PROGRESS: at sentence #230000, processed 5117545 words, keeping 69958 word types\n",
      "2019-11-24 09:36:29,990 : INFO : PROGRESS: at sentence #240000, processed 5345050 words, keeping 71167 word types\n",
      "2019-11-24 09:36:30,065 : INFO : PROGRESS: at sentence #250000, processed 5559165 words, keeping 72351 word types\n",
      "2019-11-24 09:36:30,136 : INFO : PROGRESS: at sentence #260000, processed 5779146 words, keeping 73478 word types\n",
      "2019-11-24 09:36:30,216 : INFO : PROGRESS: at sentence #270000, processed 6000435 words, keeping 74767 word types\n",
      "2019-11-24 09:36:30,294 : INFO : PROGRESS: at sentence #280000, processed 6226314 words, keeping 76369 word types\n",
      "2019-11-24 09:36:30,370 : INFO : PROGRESS: at sentence #290000, processed 6449474 words, keeping 77839 word types\n",
      "2019-11-24 09:36:30,446 : INFO : PROGRESS: at sentence #300000, processed 6674077 words, keeping 79171 word types\n",
      "2019-11-24 09:36:30,521 : INFO : PROGRESS: at sentence #310000, processed 6899391 words, keeping 80480 word types\n",
      "2019-11-24 09:36:30,598 : INFO : PROGRESS: at sentence #320000, processed 7124278 words, keeping 81808 word types\n",
      "2019-11-24 09:36:30,698 : INFO : PROGRESS: at sentence #330000, processed 7346021 words, keeping 83030 word types\n",
      "2019-11-24 09:36:30,830 : INFO : PROGRESS: at sentence #340000, processed 7575533 words, keeping 84280 word types\n",
      "2019-11-24 09:36:30,906 : INFO : PROGRESS: at sentence #350000, processed 7798803 words, keeping 85425 word types\n",
      "2019-11-24 09:36:30,980 : INFO : PROGRESS: at sentence #360000, processed 8019427 words, keeping 86596 word types\n",
      "2019-11-24 09:36:31,072 : INFO : PROGRESS: at sentence #370000, processed 8246619 words, keeping 87708 word types\n",
      "2019-11-24 09:36:31,146 : INFO : PROGRESS: at sentence #380000, processed 8471766 words, keeping 88878 word types\n",
      "2019-11-24 09:36:31,222 : INFO : PROGRESS: at sentence #390000, processed 8701497 words, keeping 89907 word types\n",
      "2019-11-24 09:36:31,299 : INFO : PROGRESS: at sentence #400000, processed 8924446 words, keeping 90916 word types\n",
      "2019-11-24 09:36:31,381 : INFO : PROGRESS: at sentence #410000, processed 9145796 words, keeping 91880 word types\n",
      "2019-11-24 09:36:31,447 : INFO : PROGRESS: at sentence #420000, processed 9366876 words, keeping 92912 word types\n",
      "2019-11-24 09:36:31,544 : INFO : PROGRESS: at sentence #430000, processed 9594413 words, keeping 93932 word types\n",
      "2019-11-24 09:36:31,628 : INFO : PROGRESS: at sentence #440000, processed 9821166 words, keeping 94906 word types\n",
      "2019-11-24 09:36:31,705 : INFO : PROGRESS: at sentence #450000, processed 10044928 words, keeping 96036 word types\n",
      "2019-11-24 09:36:31,781 : INFO : PROGRESS: at sentence #460000, processed 10277688 words, keeping 97088 word types\n",
      "2019-11-24 09:36:31,857 : INFO : PROGRESS: at sentence #470000, processed 10505613 words, keeping 97933 word types\n",
      "2019-11-24 09:36:31,931 : INFO : PROGRESS: at sentence #480000, processed 10725997 words, keeping 98862 word types\n",
      "2019-11-24 09:36:32,008 : INFO : PROGRESS: at sentence #490000, processed 10952741 words, keeping 99871 word types\n",
      "2019-11-24 09:36:32,083 : INFO : PROGRESS: at sentence #500000, processed 11174397 words, keeping 100765 word types\n",
      "2019-11-24 09:36:32,160 : INFO : PROGRESS: at sentence #510000, processed 11399672 words, keeping 101699 word types\n",
      "2019-11-24 09:36:32,238 : INFO : PROGRESS: at sentence #520000, processed 11623020 words, keeping 102598 word types\n",
      "2019-11-24 09:36:32,314 : INFO : PROGRESS: at sentence #530000, processed 11847418 words, keeping 103400 word types\n",
      "2019-11-24 09:36:32,392 : INFO : PROGRESS: at sentence #540000, processed 12072033 words, keeping 104265 word types\n",
      "2019-11-24 09:36:32,466 : INFO : PROGRESS: at sentence #550000, processed 12297571 words, keeping 105133 word types\n",
      "2019-11-24 09:36:32,541 : INFO : PROGRESS: at sentence #560000, processed 12518861 words, keeping 105997 word types\n",
      "2019-11-24 09:36:32,620 : INFO : PROGRESS: at sentence #570000, processed 12747916 words, keeping 106787 word types\n",
      "2019-11-24 09:36:32,697 : INFO : PROGRESS: at sentence #580000, processed 12969412 words, keeping 107665 word types\n",
      "2019-11-24 09:36:32,776 : INFO : PROGRESS: at sentence #590000, processed 13194937 words, keeping 108501 word types\n",
      "2019-11-24 09:36:32,854 : INFO : PROGRESS: at sentence #600000, processed 13417135 words, keeping 109218 word types\n",
      "2019-11-24 09:36:32,931 : INFO : PROGRESS: at sentence #610000, processed 13638158 words, keeping 110092 word types\n",
      "2019-11-24 09:36:33,045 : INFO : PROGRESS: at sentence #620000, processed 13864483 words, keeping 110837 word types\n",
      "2019-11-24 09:36:33,150 : INFO : PROGRESS: at sentence #630000, processed 14088769 words, keeping 111610 word types\n",
      "2019-11-24 09:36:33,228 : INFO : PROGRESS: at sentence #640000, processed 14309552 words, keeping 112416 word types\n",
      "2019-11-24 09:36:33,411 : INFO : PROGRESS: at sentence #650000, processed 14535308 words, keeping 113196 word types\n",
      "2019-11-24 09:36:33,551 : INFO : PROGRESS: at sentence #660000, processed 14758098 words, keeping 113945 word types\n",
      "2019-11-24 09:36:33,736 : INFO : PROGRESS: at sentence #670000, processed 14981482 words, keeping 114643 word types\n",
      "2019-11-24 09:36:33,885 : INFO : PROGRESS: at sentence #680000, processed 15206314 words, keeping 115354 word types\n",
      "2019-11-24 09:36:33,980 : INFO : PROGRESS: at sentence #690000, processed 15428507 words, keeping 116131 word types\n",
      "2019-11-24 09:36:34,083 : INFO : PROGRESS: at sentence #700000, processed 15657213 words, keeping 116943 word types\n",
      "2019-11-24 09:36:34,179 : INFO : PROGRESS: at sentence #710000, processed 15880202 words, keeping 117596 word types\n"
     ]
    },
    {
     "name": "stderr",
     "output_type": "stream",
     "text": [
      "2019-11-24 09:36:34,275 : INFO : PROGRESS: at sentence #720000, processed 16105489 words, keeping 118221 word types\n",
      "2019-11-24 09:36:34,356 : INFO : PROGRESS: at sentence #730000, processed 16331870 words, keeping 118954 word types\n",
      "2019-11-24 09:36:34,466 : INFO : PROGRESS: at sentence #740000, processed 16552903 words, keeping 119668 word types\n",
      "2019-11-24 09:36:34,582 : INFO : PROGRESS: at sentence #750000, processed 16771230 words, keeping 120295 word types\n",
      "2019-11-24 09:36:34,732 : INFO : PROGRESS: at sentence #760000, processed 16990622 words, keeping 120930 word types\n",
      "2019-11-24 09:36:34,814 : INFO : PROGRESS: at sentence #770000, processed 17217759 words, keeping 121703 word types\n",
      "2019-11-24 09:36:34,889 : INFO : PROGRESS: at sentence #780000, processed 17447905 words, keeping 122402 word types\n",
      "2019-11-24 09:36:34,953 : INFO : PROGRESS: at sentence #790000, processed 17674981 words, keeping 123066 word types\n",
      "2019-11-24 09:36:34,988 : INFO : collected 123504 word types from a corpus of 17798082 raw words and 795538 sentences\n",
      "2019-11-24 09:36:34,989 : INFO : Loading a fresh vocabulary\n",
      "2019-11-24 09:36:35,098 : INFO : effective_min_count=40 retains 16490 unique words (13% of original 123504, drops 107014)\n",
      "2019-11-24 09:36:35,099 : INFO : effective_min_count=40 leaves 17238940 word corpus (96% of original 17798082, drops 559142)\n",
      "2019-11-24 09:36:35,173 : INFO : deleting the raw counts dictionary of 123504 items\n",
      "2019-11-24 09:36:35,178 : INFO : sample=0.001 downsamples 48 most-common words\n",
      "2019-11-24 09:36:35,179 : INFO : downsampling leaves estimated 12749658 word corpus (74.0% of prior 17238940)\n",
      "2019-11-24 09:36:35,281 : INFO : estimated required memory for 16490 words and 300 dimensions: 47821000 bytes\n",
      "2019-11-24 09:36:35,283 : INFO : resetting layer weights\n",
      "2019-11-24 09:36:35,665 : INFO : training model with 4 workers on 16490 vocabulary and 300 features, using sg=0 hs=0 sample=0.001 negative=5 window=10\n",
      "2019-11-24 09:36:36,686 : INFO : EPOCH 1 - PROGRESS: at 3.70% examples, 470851 words/s, in_qsize 6, out_qsize 1\n",
      "2019-11-24 09:36:37,697 : INFO : EPOCH 1 - PROGRESS: at 7.48% examples, 471933 words/s, in_qsize 7, out_qsize 0\n",
      "2019-11-24 09:36:38,708 : INFO : EPOCH 1 - PROGRESS: at 11.44% examples, 479728 words/s, in_qsize 6, out_qsize 1\n",
      "2019-11-24 09:36:39,723 : INFO : EPOCH 1 - PROGRESS: at 15.56% examples, 488520 words/s, in_qsize 7, out_qsize 0\n",
      "2019-11-24 09:36:40,730 : INFO : EPOCH 1 - PROGRESS: at 19.88% examples, 498595 words/s, in_qsize 7, out_qsize 0\n",
      "2019-11-24 09:36:41,730 : INFO : EPOCH 1 - PROGRESS: at 23.76% examples, 497818 words/s, in_qsize 6, out_qsize 1\n",
      "2019-11-24 09:36:42,730 : INFO : EPOCH 1 - PROGRESS: at 27.91% examples, 502165 words/s, in_qsize 7, out_qsize 0\n",
      "2019-11-24 09:36:43,739 : INFO : EPOCH 1 - PROGRESS: at 32.23% examples, 506684 words/s, in_qsize 7, out_qsize 0\n",
      "2019-11-24 09:36:44,758 : INFO : EPOCH 1 - PROGRESS: at 36.51% examples, 509621 words/s, in_qsize 7, out_qsize 0\n",
      "2019-11-24 09:36:45,763 : INFO : EPOCH 1 - PROGRESS: at 39.96% examples, 502833 words/s, in_qsize 7, out_qsize 1\n",
      "2019-11-24 09:36:46,787 : INFO : EPOCH 1 - PROGRESS: at 44.61% examples, 509972 words/s, in_qsize 7, out_qsize 0\n",
      "2019-11-24 09:36:47,799 : INFO : EPOCH 1 - PROGRESS: at 49.43% examples, 518711 words/s, in_qsize 7, out_qsize 0\n",
      "2019-11-24 09:36:48,803 : INFO : EPOCH 1 - PROGRESS: at 54.05% examples, 523712 words/s, in_qsize 7, out_qsize 0\n",
      "2019-11-24 09:36:49,804 : INFO : EPOCH 1 - PROGRESS: at 58.74% examples, 529584 words/s, in_qsize 7, out_qsize 0\n",
      "2019-11-24 09:36:50,805 : INFO : EPOCH 1 - PROGRESS: at 62.60% examples, 527151 words/s, in_qsize 8, out_qsize 0\n",
      "2019-11-24 09:36:51,814 : INFO : EPOCH 1 - PROGRESS: at 67.12% examples, 530095 words/s, in_qsize 8, out_qsize 1\n",
      "2019-11-24 09:36:52,824 : INFO : EPOCH 1 - PROGRESS: at 71.88% examples, 534323 words/s, in_qsize 7, out_qsize 0\n",
      "2019-11-24 09:36:53,827 : INFO : EPOCH 1 - PROGRESS: at 76.49% examples, 537118 words/s, in_qsize 7, out_qsize 0\n",
      "2019-11-24 09:36:54,847 : INFO : EPOCH 1 - PROGRESS: at 81.15% examples, 539501 words/s, in_qsize 7, out_qsize 0\n",
      "2019-11-24 09:36:55,851 : INFO : EPOCH 1 - PROGRESS: at 85.74% examples, 541727 words/s, in_qsize 8, out_qsize 0\n",
      "2019-11-24 09:36:56,858 : INFO : EPOCH 1 - PROGRESS: at 90.31% examples, 543652 words/s, in_qsize 7, out_qsize 0\n",
      "2019-11-24 09:36:57,874 : INFO : EPOCH 1 - PROGRESS: at 95.00% examples, 545526 words/s, in_qsize 7, out_qsize 0\n",
      "2019-11-24 09:36:58,884 : INFO : EPOCH 1 - PROGRESS: at 99.66% examples, 547668 words/s, in_qsize 6, out_qsize 0\n",
      "2019-11-24 09:36:58,911 : INFO : worker thread finished; awaiting finish of 3 more threads\n",
      "2019-11-24 09:36:58,921 : INFO : worker thread finished; awaiting finish of 2 more threads\n",
      "2019-11-24 09:36:58,931 : INFO : worker thread finished; awaiting finish of 1 more threads\n",
      "2019-11-24 09:36:58,938 : INFO : worker thread finished; awaiting finish of 0 more threads\n",
      "2019-11-24 09:36:58,939 : INFO : EPOCH - 1 : training on 17798082 raw words (12748727 effective words) took 23.3s, 548209 effective words/s\n",
      "2019-11-24 09:36:59,977 : INFO : EPOCH 2 - PROGRESS: at 4.43% examples, 550700 words/s, in_qsize 7, out_qsize 0\n",
      "2019-11-24 09:37:00,983 : INFO : EPOCH 2 - PROGRESS: at 8.94% examples, 559360 words/s, in_qsize 7, out_qsize 0\n",
      "2019-11-24 09:37:01,988 : INFO : EPOCH 2 - PROGRESS: at 13.48% examples, 563024 words/s, in_qsize 8, out_qsize 0\n",
      "2019-11-24 09:37:02,991 : INFO : EPOCH 2 - PROGRESS: at 18.02% examples, 564661 words/s, in_qsize 8, out_qsize 0\n",
      "2019-11-24 09:37:03,994 : INFO : EPOCH 2 - PROGRESS: at 22.76% examples, 571449 words/s, in_qsize 7, out_qsize 0\n",
      "2019-11-24 09:37:04,996 : INFO : EPOCH 2 - PROGRESS: at 25.69% examples, 538247 words/s, in_qsize 8, out_qsize 0\n",
      "2019-11-24 09:37:06,007 : INFO : EPOCH 2 - PROGRESS: at 30.26% examples, 544069 words/s, in_qsize 8, out_qsize 0\n",
      "2019-11-24 09:37:07,016 : INFO : EPOCH 2 - PROGRESS: at 34.88% examples, 547742 words/s, in_qsize 7, out_qsize 0\n",
      "2019-11-24 09:37:08,029 : INFO : EPOCH 2 - PROGRESS: at 39.59% examples, 552737 words/s, in_qsize 7, out_qsize 0\n",
      "2019-11-24 09:37:09,038 : INFO : EPOCH 2 - PROGRESS: at 44.20% examples, 556377 words/s, in_qsize 7, out_qsize 0\n",
      "2019-11-24 09:37:10,044 : INFO : EPOCH 2 - PROGRESS: at 48.77% examples, 558728 words/s, in_qsize 7, out_qsize 0\n",
      "2019-11-24 09:37:11,053 : INFO : EPOCH 2 - PROGRESS: at 53.43% examples, 561225 words/s, in_qsize 7, out_qsize 0\n",
      "2019-11-24 09:37:12,077 : INFO : EPOCH 2 - PROGRESS: at 57.96% examples, 562066 words/s, in_qsize 7, out_qsize 0\n",
      "2019-11-24 09:37:13,081 : INFO : EPOCH 2 - PROGRESS: at 62.60% examples, 564160 words/s, in_qsize 7, out_qsize 0\n",
      "2019-11-24 09:37:14,093 : INFO : EPOCH 2 - PROGRESS: at 67.23% examples, 565635 words/s, in_qsize 7, out_qsize 0\n",
      "2019-11-24 09:37:15,101 : INFO : EPOCH 2 - PROGRESS: at 71.88% examples, 567077 words/s, in_qsize 7, out_qsize 0\n",
      "2019-11-24 09:37:16,110 : INFO : EPOCH 2 - PROGRESS: at 76.49% examples, 567936 words/s, in_qsize 7, out_qsize 0\n",
      "2019-11-24 09:37:17,111 : INFO : EPOCH 2 - PROGRESS: at 81.10% examples, 568897 words/s, in_qsize 7, out_qsize 0\n",
      "2019-11-24 09:37:18,111 : INFO : EPOCH 2 - PROGRESS: at 85.74% examples, 570222 words/s, in_qsize 7, out_qsize 0\n",
      "2019-11-24 09:37:19,113 : INFO : EPOCH 2 - PROGRESS: at 90.24% examples, 570593 words/s, in_qsize 7, out_qsize 0\n",
      "2019-11-24 09:37:20,142 : INFO : EPOCH 2 - PROGRESS: at 94.82% examples, 570237 words/s, in_qsize 7, out_qsize 0\n",
      "2019-11-24 09:37:21,147 : INFO : EPOCH 2 - PROGRESS: at 98.95% examples, 568261 words/s, in_qsize 7, out_qsize 0\n",
      "2019-11-24 09:37:21,325 : INFO : worker thread finished; awaiting finish of 3 more threads\n",
      "2019-11-24 09:37:21,340 : INFO : worker thread finished; awaiting finish of 2 more threads\n",
      "2019-11-24 09:37:21,347 : INFO : worker thread finished; awaiting finish of 1 more threads\n",
      "2019-11-24 09:37:21,358 : INFO : worker thread finished; awaiting finish of 0 more threads\n",
      "2019-11-24 09:37:21,359 : INFO : EPOCH - 2 : training on 17798082 raw words (12748766 effective words) took 22.4s, 568927 effective words/s\n",
      "2019-11-24 09:37:22,371 : INFO : EPOCH 3 - PROGRESS: at 4.27% examples, 541883 words/s, in_qsize 7, out_qsize 0\n",
      "2019-11-24 09:37:23,373 : INFO : EPOCH 3 - PROGRESS: at 7.77% examples, 491949 words/s, in_qsize 7, out_qsize 0\n"
     ]
    },
    {
     "name": "stderr",
     "output_type": "stream",
     "text": [
      "2019-11-24 09:37:24,384 : INFO : EPOCH 3 - PROGRESS: at 11.89% examples, 500248 words/s, in_qsize 7, out_qsize 0\n",
      "2019-11-24 09:37:25,396 : INFO : EPOCH 3 - PROGRESS: at 16.56% examples, 520264 words/s, in_qsize 7, out_qsize 0\n",
      "2019-11-24 09:37:26,406 : INFO : EPOCH 3 - PROGRESS: at 21.29% examples, 535066 words/s, in_qsize 7, out_qsize 0\n",
      "2019-11-24 09:37:27,408 : INFO : EPOCH 3 - PROGRESS: at 25.80% examples, 541013 words/s, in_qsize 7, out_qsize 0\n",
      "2019-11-24 09:37:28,415 : INFO : EPOCH 3 - PROGRESS: at 29.98% examples, 539724 words/s, in_qsize 7, out_qsize 0\n",
      "2019-11-24 09:37:29,426 : INFO : EPOCH 3 - PROGRESS: at 34.65% examples, 544708 words/s, in_qsize 7, out_qsize 0\n",
      "2019-11-24 09:37:30,438 : INFO : EPOCH 3 - PROGRESS: at 39.48% examples, 551737 words/s, in_qsize 7, out_qsize 0\n",
      "2019-11-24 09:37:31,446 : INFO : EPOCH 3 - PROGRESS: at 44.20% examples, 556923 words/s, in_qsize 7, out_qsize 0\n",
      "2019-11-24 09:37:32,447 : INFO : EPOCH 3 - PROGRESS: at 48.87% examples, 560819 words/s, in_qsize 7, out_qsize 0\n",
      "2019-11-24 09:37:33,451 : INFO : EPOCH 3 - PROGRESS: at 53.43% examples, 562147 words/s, in_qsize 7, out_qsize 0\n",
      "2019-11-24 09:37:34,460 : INFO : EPOCH 3 - PROGRESS: at 58.07% examples, 564696 words/s, in_qsize 7, out_qsize 0\n",
      "2019-11-24 09:37:35,466 : INFO : EPOCH 3 - PROGRESS: at 61.81% examples, 558405 words/s, in_qsize 8, out_qsize 0\n",
      "2019-11-24 09:37:36,472 : INFO : EPOCH 3 - PROGRESS: at 65.35% examples, 550987 words/s, in_qsize 8, out_qsize 1\n",
      "2019-11-24 09:37:37,473 : INFO : EPOCH 3 - PROGRESS: at 70.05% examples, 554056 words/s, in_qsize 7, out_qsize 0\n",
      "2019-11-24 09:37:38,476 : INFO : EPOCH 3 - PROGRESS: at 74.74% examples, 556728 words/s, in_qsize 7, out_qsize 0\n",
      "2019-11-24 09:37:39,485 : INFO : EPOCH 3 - PROGRESS: at 78.95% examples, 555308 words/s, in_qsize 7, out_qsize 0\n",
      "2019-11-24 09:37:40,506 : INFO : EPOCH 3 - PROGRESS: at 83.45% examples, 555578 words/s, in_qsize 8, out_qsize 0\n",
      "2019-11-24 09:37:41,521 : INFO : EPOCH 3 - PROGRESS: at 87.08% examples, 550669 words/s, in_qsize 7, out_qsize 0\n",
      "2019-11-24 09:37:42,532 : INFO : EPOCH 3 - PROGRESS: at 91.20% examples, 549373 words/s, in_qsize 7, out_qsize 0\n",
      "2019-11-24 09:37:43,556 : INFO : EPOCH 3 - PROGRESS: at 93.74% examples, 538529 words/s, in_qsize 7, out_qsize 0\n",
      "2019-11-24 09:37:44,569 : INFO : EPOCH 3 - PROGRESS: at 96.53% examples, 530136 words/s, in_qsize 7, out_qsize 1\n",
      "2019-11-24 09:37:45,502 : INFO : worker thread finished; awaiting finish of 3 more threads\n",
      "2019-11-24 09:37:45,510 : INFO : worker thread finished; awaiting finish of 2 more threads\n",
      "2019-11-24 09:37:45,516 : INFO : worker thread finished; awaiting finish of 1 more threads\n",
      "2019-11-24 09:37:45,528 : INFO : worker thread finished; awaiting finish of 0 more threads\n",
      "2019-11-24 09:37:45,529 : INFO : EPOCH - 3 : training on 17798082 raw words (12749513 effective words) took 24.2s, 527703 effective words/s\n",
      "2019-11-24 09:37:46,547 : INFO : EPOCH 4 - PROGRESS: at 3.54% examples, 447014 words/s, in_qsize 7, out_qsize 0\n",
      "2019-11-24 09:37:47,551 : INFO : EPOCH 4 - PROGRESS: at 6.85% examples, 433543 words/s, in_qsize 8, out_qsize 1\n",
      "2019-11-24 09:37:48,554 : INFO : EPOCH 4 - PROGRESS: at 10.81% examples, 455471 words/s, in_qsize 7, out_qsize 0\n",
      "2019-11-24 09:37:49,555 : INFO : EPOCH 4 - PROGRESS: at 14.95% examples, 472006 words/s, in_qsize 7, out_qsize 0\n",
      "2019-11-24 09:37:50,571 : INFO : EPOCH 4 - PROGRESS: at 19.44% examples, 488945 words/s, in_qsize 7, out_qsize 0\n",
      "2019-11-24 09:37:51,574 : INFO : EPOCH 4 - PROGRESS: at 23.48% examples, 493015 words/s, in_qsize 7, out_qsize 0\n",
      "2019-11-24 09:37:52,581 : INFO : EPOCH 4 - PROGRESS: at 27.20% examples, 489416 words/s, in_qsize 6, out_qsize 1\n",
      "2019-11-24 09:37:53,591 : INFO : EPOCH 4 - PROGRESS: at 31.78% examples, 499854 words/s, in_qsize 7, out_qsize 1\n",
      "2019-11-24 09:37:54,616 : INFO : EPOCH 4 - PROGRESS: at 35.78% examples, 499236 words/s, in_qsize 6, out_qsize 1\n",
      "2019-11-24 09:37:55,638 : INFO : EPOCH 4 - PROGRESS: at 40.35% examples, 506854 words/s, in_qsize 7, out_qsize 0\n",
      "2019-11-24 09:37:56,660 : INFO : EPOCH 4 - PROGRESS: at 45.12% examples, 514907 words/s, in_qsize 7, out_qsize 0\n",
      "2019-11-24 09:37:57,676 : INFO : EPOCH 4 - PROGRESS: at 49.82% examples, 521889 words/s, in_qsize 8, out_qsize 0\n",
      "2019-11-24 09:37:58,684 : INFO : EPOCH 4 - PROGRESS: at 54.49% examples, 527039 words/s, in_qsize 6, out_qsize 1\n",
      "2019-11-24 09:37:59,685 : INFO : EPOCH 4 - PROGRESS: at 59.11% examples, 532182 words/s, in_qsize 7, out_qsize 0\n",
      "2019-11-24 09:38:00,694 : INFO : EPOCH 4 - PROGRESS: at 63.73% examples, 535463 words/s, in_qsize 8, out_qsize 1\n",
      "2019-11-24 09:38:01,715 : INFO : EPOCH 4 - PROGRESS: at 68.27% examples, 537468 words/s, in_qsize 7, out_qsize 0\n",
      "2019-11-24 09:38:02,720 : INFO : EPOCH 4 - PROGRESS: at 72.66% examples, 538921 words/s, in_qsize 8, out_qsize 0\n",
      "2019-11-24 09:38:03,737 : INFO : EPOCH 4 - PROGRESS: at 77.38% examples, 541815 words/s, in_qsize 7, out_qsize 0\n",
      "2019-11-24 09:38:04,737 : INFO : EPOCH 4 - PROGRESS: at 82.04% examples, 544465 words/s, in_qsize 7, out_qsize 0\n",
      "2019-11-24 09:38:05,742 : INFO : EPOCH 4 - PROGRESS: at 86.14% examples, 543294 words/s, in_qsize 7, out_qsize 0\n",
      "2019-11-24 09:38:06,759 : INFO : EPOCH 4 - PROGRESS: at 89.21% examples, 535771 words/s, in_qsize 7, out_qsize 2\n",
      "2019-11-24 09:38:07,786 : INFO : EPOCH 4 - PROGRESS: at 93.44% examples, 535459 words/s, in_qsize 6, out_qsize 1\n",
      "2019-11-24 09:38:08,788 : INFO : EPOCH 4 - PROGRESS: at 98.06% examples, 537612 words/s, in_qsize 7, out_qsize 0\n",
      "2019-11-24 09:38:09,317 : INFO : worker thread finished; awaiting finish of 3 more threads\n",
      "2019-11-24 09:38:09,330 : INFO : worker thread finished; awaiting finish of 2 more threads\n",
      "2019-11-24 09:38:09,362 : INFO : worker thread finished; awaiting finish of 1 more threads\n",
      "2019-11-24 09:38:09,370 : INFO : worker thread finished; awaiting finish of 0 more threads\n",
      "2019-11-24 09:38:09,373 : INFO : EPOCH - 4 : training on 17798082 raw words (12748226 effective words) took 23.8s, 534884 effective words/s\n",
      "2019-11-24 09:38:10,403 : INFO : EPOCH 5 - PROGRESS: at 3.48% examples, 438825 words/s, in_qsize 8, out_qsize 0\n",
      "2019-11-24 09:38:11,422 : INFO : EPOCH 5 - PROGRESS: at 6.96% examples, 436562 words/s, in_qsize 7, out_qsize 0\n",
      "2019-11-24 09:38:12,435 : INFO : EPOCH 5 - PROGRESS: at 11.03% examples, 460612 words/s, in_qsize 8, out_qsize 0\n",
      "2019-11-24 09:38:13,444 : INFO : EPOCH 5 - PROGRESS: at 15.23% examples, 476592 words/s, in_qsize 7, out_qsize 0\n",
      "2019-11-24 09:38:14,446 : INFO : EPOCH 5 - PROGRESS: at 18.92% examples, 474057 words/s, in_qsize 7, out_qsize 0\n",
      "2019-11-24 09:38:15,486 : INFO : EPOCH 5 - PROGRESS: at 23.43% examples, 487114 words/s, in_qsize 7, out_qsize 0\n",
      "2019-11-24 09:38:16,506 : INFO : EPOCH 5 - PROGRESS: at 27.69% examples, 493723 words/s, in_qsize 7, out_qsize 0\n",
      "2019-11-24 09:38:17,514 : INFO : EPOCH 5 - PROGRESS: at 32.51% examples, 507205 words/s, in_qsize 7, out_qsize 0\n",
      "2019-11-24 09:38:18,524 : INFO : EPOCH 5 - PROGRESS: at 37.22% examples, 516920 words/s, in_qsize 8, out_qsize 0\n",
      "2019-11-24 09:38:19,537 : INFO : EPOCH 5 - PROGRESS: at 41.76% examples, 522445 words/s, in_qsize 7, out_qsize 0\n",
      "2019-11-24 09:38:20,540 : INFO : EPOCH 5 - PROGRESS: at 46.45% examples, 529266 words/s, in_qsize 7, out_qsize 0\n",
      "2019-11-24 09:38:21,569 : INFO : EPOCH 5 - PROGRESS: at 51.13% examples, 533897 words/s, in_qsize 7, out_qsize 0\n",
      "2019-11-24 09:38:22,577 : INFO : EPOCH 5 - PROGRESS: at 55.55% examples, 535903 words/s, in_qsize 7, out_qsize 0\n",
      "2019-11-24 09:38:23,639 : INFO : EPOCH 5 - PROGRESS: at 59.28% examples, 530068 words/s, in_qsize 7, out_qsize 0\n",
      "2019-11-24 09:38:24,673 : INFO : EPOCH 5 - PROGRESS: at 62.77% examples, 523218 words/s, in_qsize 7, out_qsize 0\n",
      "2019-11-24 09:38:25,673 : INFO : EPOCH 5 - PROGRESS: at 65.45% examples, 512165 words/s, in_qsize 7, out_qsize 0\n",
      "2019-11-24 09:38:26,704 : INFO : EPOCH 5 - PROGRESS: at 68.55% examples, 504408 words/s, in_qsize 7, out_qsize 0\n",
      "2019-11-24 09:38:27,729 : INFO : EPOCH 5 - PROGRESS: at 71.27% examples, 495323 words/s, in_qsize 6, out_qsize 1\n",
      "2019-11-24 09:38:28,730 : INFO : EPOCH 5 - PROGRESS: at 75.59% examples, 498183 words/s, in_qsize 7, out_qsize 0\n",
      "2019-11-24 09:38:29,740 : INFO : EPOCH 5 - PROGRESS: at 79.92% examples, 500458 words/s, in_qsize 7, out_qsize 0\n"
     ]
    },
    {
     "name": "stderr",
     "output_type": "stream",
     "text": [
      "2019-11-24 09:38:30,745 : INFO : EPOCH 5 - PROGRESS: at 84.67% examples, 505372 words/s, in_qsize 7, out_qsize 0\n",
      "2019-11-24 09:38:31,752 : INFO : EPOCH 5 - PROGRESS: at 89.37% examples, 509473 words/s, in_qsize 7, out_qsize 0\n",
      "2019-11-24 09:38:32,757 : INFO : EPOCH 5 - PROGRESS: at 94.15% examples, 513590 words/s, in_qsize 7, out_qsize 0\n",
      "2019-11-24 09:38:33,768 : INFO : EPOCH 5 - PROGRESS: at 98.77% examples, 516646 words/s, in_qsize 7, out_qsize 1\n",
      "2019-11-24 09:38:33,984 : INFO : worker thread finished; awaiting finish of 3 more threads\n",
      "2019-11-24 09:38:34,015 : INFO : worker thread finished; awaiting finish of 2 more threads\n",
      "2019-11-24 09:38:34,018 : INFO : worker thread finished; awaiting finish of 1 more threads\n",
      "2019-11-24 09:38:34,019 : INFO : worker thread finished; awaiting finish of 0 more threads\n",
      "2019-11-24 09:38:34,020 : INFO : EPOCH - 5 : training on 17798082 raw words (12749586 effective words) took 24.6s, 517707 effective words/s\n",
      "2019-11-24 09:38:34,023 : INFO : training on a 88990410 raw words (63744818 effective words) took 118.4s, 538592 effective words/s\n",
      "2019-11-24 09:38:34,024 : INFO : precomputing L2-norms of word weight vectors\n"
     ]
    }
   ],
   "source": [
    "import logging\n",
    "from gensim.models import word2vec\n",
    "\n",
    "logging.basicConfig(format='%(asctime)s : %(levelname)s : %(message)s',\n",
    "    level=logging.INFO)\n",
    "\n",
    "# Set values for various parameters\n",
    "num_features = 300    # Word vector dimensionality                      \n",
    "min_word_count = 40   # Minimum word count                        \n",
    "num_workers = 4       # Number of threads to run in parallel\n",
    "context = 10          # Context window size                                                                                    \n",
    "downsampling = 1e-3   # Downsample setting for frequent words\n",
    "\n",
    "model = word2vec.Word2Vec(sentences, workers=num_workers,\n",
    "            size=num_features, min_count = min_word_count,\n",
    "            window = context, sample = downsampling) #uses cython\n",
    "\n",
    "model.init_sims(replace=True)"
   ]
  },
  {
   "cell_type": "code",
   "execution_count": 26,
   "metadata": {},
   "outputs": [
    {
     "name": "stderr",
     "output_type": "stream",
     "text": [
      "/usr/local/lib/python3.7/site-packages/ipykernel_launcher.py:3: DeprecationWarning: Call to deprecated `doesnt_match` (Method will be removed in 4.0.0, use self.wv.doesnt_match() instead).\n",
      "  This is separate from the ipykernel package so we can avoid doing imports until\n",
      "/usr/local/lib/python3.7/site-packages/gensim/models/keyedvectors.py:877: FutureWarning: arrays to stack must be passed as a \"sequence\" type such as list or tuple. Support for non-sequence iterables such as generators is deprecated as of NumPy 1.16 and will raise an error in the future.\n",
      "  vectors = vstack(self.word_vec(word, use_norm=True) for word in used_words).astype(REAL)\n"
     ]
    },
    {
     "data": {
      "text/plain": [
       "'kitchen'"
      ]
     },
     "execution_count": 26,
     "metadata": {},
     "output_type": "execute_result"
    }
   ],
   "source": [
    "#let's examine the model\n",
    "\n",
    "model.doesnt_match(\"man woman children kitchen\".split())"
   ]
  },
  {
   "cell_type": "code",
   "execution_count": 31,
   "metadata": {},
   "outputs": [
    {
     "name": "stderr",
     "output_type": "stream",
     "text": [
      "/usr/local/lib/python3.7/site-packages/ipykernel_launcher.py:1: DeprecationWarning: Call to deprecated `doesnt_match` (Method will be removed in 4.0.0, use self.wv.doesnt_match() instead).\n",
      "  \"\"\"Entry point for launching an IPython kernel.\n"
     ]
    },
    {
     "data": {
      "text/plain": [
       "'london'"
      ]
     },
     "execution_count": 31,
     "metadata": {},
     "output_type": "execute_result"
    }
   ],
   "source": [
    "model.doesnt_match(\"sweden norway denmark london\".split())"
   ]
  },
  {
   "cell_type": "code",
   "execution_count": 33,
   "metadata": {},
   "outputs": [
    {
     "name": "stderr",
     "output_type": "stream",
     "text": [
      "/usr/local/lib/python3.7/site-packages/ipykernel_launcher.py:1: DeprecationWarning: Call to deprecated `most_similar` (Method will be removed in 4.0.0, use self.wv.most_similar() instead).\n",
      "  \"\"\"Entry point for launching an IPython kernel.\n"
     ]
    },
    {
     "data": {
      "text/plain": [
       "[('puppy', 0.6654437780380249),\n",
       " ('cat', 0.6308108568191528),\n",
       " ('pet', 0.6294919848442078),\n",
       " ('bird', 0.6013981699943542),\n",
       " ('chicken', 0.5890455842018127),\n",
       " ('horse', 0.569918692111969),\n",
       " ('monkey', 0.5429009795188904),\n",
       " ('goat', 0.5336949229240417),\n",
       " ('bike', 0.5272098183631897),\n",
       " ('rat', 0.5260271430015564)]"
      ]
     },
     "execution_count": 33,
     "metadata": {},
     "output_type": "execute_result"
    }
   ],
   "source": [
    "model.most_similar(\"dog\")"
   ]
  },
  {
   "cell_type": "code",
   "execution_count": null,
   "metadata": {},
   "outputs": [],
   "source": [
    "model[\"dog\"] #the 300 dimensional embedding of the word \"dog\""
   ]
  },
  {
   "cell_type": "code",
   "execution_count": 52,
   "metadata": {},
   "outputs": [],
   "source": [
    "#let's represent a review by taking the average of their word vectors. Since the vector captures the meaning\n",
    "#of the word then hopefully taking average over the review we get the \"meaning\" of the review.\n",
    "# We will remove stop words as they are basically just noise\n",
    "\n",
    "vocabulary = set(model.wv.index2word)\n",
    "\n",
    "#takes a raw review and returns average vector\n",
    "def get_feature_vector(review):\n",
    "    words = clean_review2(review)\n",
    "    \n",
    "    vector = np.zeros(num_features)\n",
    "    count = 0\n",
    "    for word in words:\n",
    "        if word in vocabulary: #notf not all words will be in vocabulary since only look at those occuring >= 40 times\n",
    "            vector += model[word]\n",
    "            count += 1\n",
    "    return vector/count\n",
    "            "
   ]
  },
  {
   "cell_type": "code",
   "execution_count": 59,
   "metadata": {},
   "outputs": [
    {
     "name": "stderr",
     "output_type": "stream",
     "text": [
      "/usr/local/lib/python3.7/site-packages/ipykernel_launcher.py:15: DeprecationWarning: Call to deprecated `__getitem__` (Method will be removed in 4.0.0, use self.wv.__getitem__() instead).\n",
      "  from ipykernel import kernelapp as app\n"
     ]
    }
   ],
   "source": [
    "feature_vectors = np.zeros((train.shape[0], num_features))\n",
    "for i, review in enumerate(train[\"review\"]):\n",
    "    feature_vectors[i] = get_feature_vector(review)\n",
    "    \n",
    "test_feature_vectors = np.zeros((test.shape[0], num_features))\n",
    "for i, review in enumerate(test[\"review\"]):\n",
    "    test_feature_vectors[i] = get_feature_vector(review)\n",
    "    "
   ]
  },
  {
   "cell_type": "code",
   "execution_count": 60,
   "metadata": {},
   "outputs": [],
   "source": [
    "#This solution is similar to the one in part 1. When we average the words we lose\n",
    "#the order of the words which surely matters.\n",
    "from sklearn.ensemble import RandomForestClassifier\n",
    "\n",
    "RFC = RandomForestClassifier(n_estimators = 200)\n",
    "RFC.fit(feature_vectors, train[\"sentiment\"])\n",
    "\n",
    "preds = RFC.predict(test_feature_vectors)\n",
    "submit = pd.DataFrame({\"id\": test[\"id\"], \"sentiment\": preds})\n",
    "submit.to_csv(\"part2.csv\", index=False, quoting=3)"
   ]
  },
  {
   "cell_type": "code",
   "execution_count": null,
   "metadata": {},
   "outputs": [],
   "source": []
  },
  {
   "cell_type": "code",
   "execution_count": null,
   "metadata": {},
   "outputs": [],
   "source": []
  }
 ],
 "metadata": {
  "kernelspec": {
   "display_name": "Python 3",
   "language": "python",
   "name": "python3"
  },
  "language_info": {
   "codemirror_mode": {
    "name": "ipython",
    "version": 3
   },
   "file_extension": ".py",
   "mimetype": "text/x-python",
   "name": "python",
   "nbconvert_exporter": "python",
   "pygments_lexer": "ipython3",
   "version": "3.7.5"
  }
 },
 "nbformat": 4,
 "nbformat_minor": 2
}
