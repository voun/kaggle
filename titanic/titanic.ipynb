{
 "cells": [
  {
   "cell_type": "code",
   "execution_count": 603,
   "metadata": {},
   "outputs": [
    {
     "name": "stdout",
     "output_type": "stream",
     "text": [
      "['PassengerId' 'Survived' 'Pclass' 'Name' 'Sex' 'Age' 'SibSp' 'Parch'\n",
      " 'Ticket' 'Fare' 'Cabin' 'Embarked']\n",
      "<class 'pandas.core.frame.DataFrame'>\n",
      "RangeIndex: 891 entries, 0 to 890\n",
      "Data columns (total 12 columns):\n",
      "PassengerId    891 non-null int64\n",
      "Survived       891 non-null int64\n",
      "Pclass         891 non-null int64\n",
      "Name           891 non-null object\n",
      "Sex            891 non-null object\n",
      "Age            714 non-null float64\n",
      "SibSp          891 non-null int64\n",
      "Parch          891 non-null int64\n",
      "Ticket         891 non-null object\n",
      "Fare           891 non-null float64\n",
      "Cabin          204 non-null object\n",
      "Embarked       889 non-null object\n",
      "dtypes: float64(2), int64(5), object(5)\n",
      "memory usage: 83.6+ KB\n",
      "None\n",
      "       PassengerId    Survived      Pclass         Age       SibSp  \\\n",
      "count   891.000000  891.000000  891.000000  714.000000  891.000000   \n",
      "mean    446.000000    0.383838    2.308642   29.699118    0.523008   \n",
      "std     257.353842    0.486592    0.836071   14.526497    1.102743   \n",
      "min       1.000000    0.000000    1.000000    0.420000    0.000000   \n",
      "25%     223.500000    0.000000    2.000000   20.125000    0.000000   \n",
      "50%     446.000000    0.000000    3.000000   28.000000    0.000000   \n",
      "75%     668.500000    1.000000    3.000000   38.000000    1.000000   \n",
      "max     891.000000    1.000000    3.000000   80.000000    8.000000   \n",
      "\n",
      "            Parch        Fare  \n",
      "count  891.000000  891.000000  \n",
      "mean     0.381594   32.204208  \n",
      "std      0.806057   49.693429  \n",
      "min      0.000000    0.000000  \n",
      "25%      0.000000    7.910400  \n",
      "50%      0.000000   14.454200  \n",
      "75%      0.000000   31.000000  \n",
      "max      6.000000  512.329200  \n",
      "         Sex Embarked    Cabin\n",
      "count    891      889      204\n",
      "unique     2        3      147\n",
      "top     male        S  B96 B98\n",
      "freq     577      644        4\n"
     ]
    },
    {
     "data": {
      "text/plain": [
       "array(['S', 'C', 'Q', nan], dtype=object)"
      ]
     },
     "execution_count": 603,
     "metadata": {},
     "output_type": "execute_result"
    }
   ],
   "source": [
    "import numpy as np\n",
    "import pandas as pd\n",
    "import seaborn as sns\n",
    "import matplotlib.pyplot as plt\n",
    "\n",
    "train = pd.read_csv(\"train.csv\")\n",
    "test = pd.read_csv(\"test.csv\")\n",
    "\n",
    "print(train.columns.values)\n",
    "\n",
    "'''\n",
    "Categorical = Survived, Sex, Embarked, pclass (Ticked class)  (finite many categories and can't be ordered or doesnt matter)\n",
    "Numerical:\n",
    "    Continous: Fare\n",
    "    Discrete: Age, SibSp, Parch\n",
    "Not sure/text: Ticket, Cabin\n",
    "\n",
    "'''\n",
    "    \n",
    "print(train.info())\n",
    "\n",
    "#Two floats (fare and age), 5 ints and 5 objects (Ticket and Cabin etc)\n",
    "#Age, Cabin and Embarked contains missing data\n",
    "\n",
    "print(train.describe())\n",
    "#only around  38% survived, Age is around 30+--15,\n",
    "# more than 75% passengers did not travel with parents or child.\n",
    "# fares vary a lot!!\n",
    "\n",
    "temp = train[[\"Sex\", \"Embarked\", \"Cabin\"]]\n",
    "print(temp.describe())\n",
    "temp[\"Embarked\"].unique() #S C and Q\n",
    "#3/4 of cabins are unique\n",
    "#65% are male\n"
   ]
  },
  {
   "cell_type": "code",
   "execution_count": 604,
   "metadata": {},
   "outputs": [
    {
     "name": "stdout",
     "output_type": "stream",
     "text": [
      "        Survived\n",
      "Pclass          \n",
      "1       0.629630\n",
      "2       0.472826\n",
      "3       0.242363\n",
      "        Survived\n",
      "Sex             \n",
      "female  0.742038\n",
      "male    0.188908\n",
      "************\n",
      "       Survived\n",
      "Parch          \n",
      "0      0.343658\n",
      "1      0.550847\n",
      "2      0.500000\n",
      "3      0.600000\n",
      "4      0.000000\n",
      "5      0.200000\n",
      "6      0.000000\n",
      "       Survived\n",
      "SibSp          \n",
      "0      0.345395\n",
      "1      0.535885\n",
      "2      0.464286\n",
      "3      0.250000\n",
      "4      0.166667\n",
      "5      0.000000\n",
      "8      0.000000\n"
     ]
    },
    {
     "data": {
      "text/plain": [
       "<matplotlib.axes._subplots.AxesSubplot at 0x10f836250>"
      ]
     },
     "execution_count": 604,
     "metadata": {},
     "output_type": "execute_result"
    },
    {
     "data": {
      "image/png": "[encoded data removed]",
      "text/plain": [
       "<Figure size 432x288 with 1 Axes>"
      ]
     },
     "metadata": {
      "needs_background": "light"
     },
     "output_type": "display_data"
    }
   ],
   "source": [
    "## We want to complete Age and Embark\n",
    "## We may drop Cabin as it is highly incomplete and PassenderId, Name and Ticket\n",
    "## Can create Family from SibSp and parch or isAlone feature\n",
    "\n",
    "#train_df[['Pclass', 'Survived']].groupby(['Pclass'], as_index=False).mean().sort_values(by='Survived', ascending=False)\n",
    "\n",
    "temp1 = train[['Pclass', 'Survived']].groupby(['Pclass']).mean() #takes mean of groups 1,2 and 3\n",
    "temp2 = train[['Sex', 'Survived']].groupby(['Sex']).mean()\n",
    "\n",
    "print(temp1)\n",
    "print(temp2)\n",
    "\n",
    "#63% of passengers in class 1 survived and 74% of females survived.\n",
    "print(\"************\")\n",
    "temp3 = train[['Parch', 'Survived']].groupby(['Parch']).mean()\n",
    "temp4 = train[['SibSp', 'Survived']].groupby(['SibSp']).mean()\n",
    "print(temp3)\n",
    "print(temp4)\n",
    "# No clear relationship so create isAlone\n",
    "\n",
    "temp4.plot(kind = \"bar\", colormap=\"rainbow\")\n",
    "\n",
    "\n"
   ]
  },
  {
   "cell_type": "code",
   "execution_count": null,
   "metadata": {},
   "outputs": [],
   "source": [
    "\n"
   ]
  },
  {
   "cell_type": "code",
   "execution_count": 605,
   "metadata": {},
   "outputs": [
    {
     "name": "stdout",
     "output_type": "stream",
     "text": [
      "         Survived\n",
      "isAlone          \n",
      "0        0.303538\n",
      "1        0.505650\n"
     ]
    }
   ],
   "source": [
    "temp = (train[\"Parch\"] > 0) | (train[\"SibSp\"] > 0)\n",
    "\n",
    "train[\"isAlone\"] = temp*1\n",
    "train.columns.values\n",
    "temp = train[[\"isAlone\", \"Survived\"]].groupby([\"isAlone\"]).mean()\n",
    "print(temp)\n",
    "#so if alone then only 30% to survive and if not alone then 50% to survive."
   ]
  },
  {
   "cell_type": "code",
   "execution_count": 606,
   "metadata": {},
   "outputs": [
    {
     "data": {
      "text/plain": [
       "<matplotlib.axes._subplots.AxesSubplot at 0x10f65f550>"
      ]
     },
     "execution_count": 606,
     "metadata": {},
     "output_type": "execute_result"
    },
    {
     "data": {
      "image/png": "[encoded data removed]",
      "text/plain": [
       "<Figure size 432x288 with 2 Axes>"
      ]
     },
     "metadata": {
      "needs_background": "light"
     },
     "output_type": "display_data"
    }
   ],
   "source": [
    "\n",
    "sns.heatmap(train[[\"Survived\", \"SibSp\", \"Parch\", \"Age\", \"Fare\", \"Pclass\"]].corr(), annot=True, cmap = \"coolwarm\")\n",
    "#Fare has highest corr with survived but e.g age can still affect.\n",
    "# Maybe there are groups with higher prob of surv for ex <=4 always survive since babies while maybe\n",
    "# 20-40 play heros and die while 70+ survive\n"
   ]
  },
  {
   "cell_type": "code",
   "execution_count": 607,
   "metadata": {},
   "outputs": [
    {
     "data": {
      "text/plain": [
       "<seaborn.axisgrid.FacetGrid at 0x122892cd0>"
      ]
     },
     "execution_count": 607,
     "metadata": {},
     "output_type": "execute_result"
    },
    {
     "data": {
      "image/png": "[encoded data removed]",
      "text/plain": [
       "<Figure size 432x216 with 2 Axes>"
      ]
     },
     "metadata": {
      "needs_background": "light"
     },
     "output_type": "display_data"
    }
   ],
   "source": [
    "\n",
    "g = sns.FacetGrid(train, col=\"Survived\")\n",
    "g.map(plt.hist, \"Age\", bins=15)\n",
    "# infant survive and 15-25 did not survive. Around 80 also survived\n"
   ]
  },
  {
   "cell_type": "code",
   "execution_count": 608,
   "metadata": {},
   "outputs": [
    {
     "data": {
      "text/plain": [
       "<seaborn.axisgrid.FacetGrid at 0x122be8590>"
      ]
     },
     "execution_count": 608,
     "metadata": {},
     "output_type": "execute_result"
    },
    {
     "data": {
      "image/png": "[encoded data removed]",
      "text/plain": [
       "<Figure size 432x648 with 6 Axes>"
      ]
     },
     "metadata": {
      "needs_background": "light"
     },
     "output_type": "display_data"
    }
   ],
   "source": [
    "g = sns.FacetGrid(train, row=\"Pclass\", col = \"Survived\")\n",
    "g.map(plt.hist, \"Age\")\n",
    "#People in class 3 did not survive"
   ]
  },
  {
   "cell_type": "code",
   "execution_count": 609,
   "metadata": {},
   "outputs": [
    {
     "data": {
      "text/plain": [
       "<matplotlib.axes._subplots.AxesSubplot at 0x1236b25d0>"
      ]
     },
     "execution_count": 609,
     "metadata": {},
     "output_type": "execute_result"
    },
    {
     "data": {
      "image/png": "[encoded data removed]",
      "text/plain": [
       "<Figure size 432x288 with 1 Axes>"
      ]
     },
     "metadata": {
      "needs_background": "light"
     },
     "output_type": "display_data"
    }
   ],
   "source": [
    "sns.kdeplot(train[\"Fare\"])\n",
    "#slightly skewed. Maybe log-transform to change this?"
   ]
  },
  {
   "cell_type": "code",
   "execution_count": 610,
   "metadata": {},
   "outputs": [
    {
     "data": {
      "text/plain": [
       "<matplotlib.axes._subplots.AxesSubplot at 0x10f5ccb50>"
      ]
     },
     "execution_count": 610,
     "metadata": {},
     "output_type": "execute_result"
    },
    {
     "data": {
      "image/png": "[encoded data removed]",
      "text/plain": [
       "<Figure size 432x288 with 1 Axes>"
      ]
     },
     "metadata": {
      "needs_background": "light"
     },
     "output_type": "display_data"
    }
   ],
   "source": [
    "\n",
    "train[[\"Age\", \"Sex\"]].boxplot(by = \"Sex\", patch_artist = True)"
   ]
  },
  {
   "cell_type": "code",
   "execution_count": 611,
   "metadata": {},
   "outputs": [],
   "source": [
    "train.drop([\"Ticket\", \"Cabin\", \"PassengerId\"], inplace=True, axis=1)"
   ]
  },
  {
   "cell_type": "code",
   "execution_count": 612,
   "metadata": {},
   "outputs": [
    {
     "data": {
      "text/plain": [
       "array(['Survived', 'Pclass', 'Name', 'Sex', 'Age', 'SibSp', 'Parch',\n",
       "       'Fare', 'Embarked', 'isAlone'], dtype=object)"
      ]
     },
     "execution_count": 612,
     "metadata": {},
     "output_type": "execute_result"
    }
   ],
   "source": [
    "train.columns.values"
   ]
  },
  {
   "cell_type": "code",
   "execution_count": 613,
   "metadata": {},
   "outputs": [
    {
     "data": {
      "text/plain": [
       "<matplotlib.axes._subplots.AxesSubplot at 0x122683290>"
      ]
     },
     "execution_count": 613,
     "metadata": {},
     "output_type": "execute_result"
    },
    {
     "data": {
      "image/png": "[encoded data removed]",
      "text/plain": [
       "<Figure size 432x288 with 1 Axes>"
      ]
     },
     "metadata": {
      "needs_background": "light"
     },
     "output_type": "display_data"
    }
   ],
   "source": [
    "sns.boxplot(x = \"Parch\", y = \"Age\", data=train)\n"
   ]
  },
  {
   "cell_type": "code",
   "execution_count": 614,
   "metadata": {},
   "outputs": [
    {
     "data": {
      "text/plain": [
       "<matplotlib.axes._subplots.AxesSubplot at 0x125ca7810>"
      ]
     },
     "execution_count": 614,
     "metadata": {},
     "output_type": "execute_result"
    },
    {
     "data": {
      "image/png": "[encoded data removed]",
      "text/plain": [
       "<Figure size 432x288 with 1 Axes>"
      ]
     },
     "metadata": {
      "needs_background": "light"
     },
     "output_type": "display_data"
    }
   ],
   "source": [
    "sns.boxplot(x = \"SibSp\", y = \"Age\", data=train)\n",
    "#so if have many siblings then age is around 10\n"
   ]
  },
  {
   "cell_type": "code",
   "execution_count": 615,
   "metadata": {},
   "outputs": [
    {
     "name": "stdout",
     "output_type": "stream",
     "text": [
      "Mr          517\n",
      "Miss        182\n",
      "Mrs         125\n",
      "Master       40\n",
      "Dr            7\n",
      "Rev           6\n",
      "Major         2\n",
      "Col           2\n",
      "Mlle          2\n",
      "Sir           1\n",
      "Capt          1\n",
      "Mme           1\n",
      "Jonkheer      1\n",
      "Lady          1\n",
      "Don           1\n",
      "Ms            1\n",
      "Countess      1\n",
      "Name: Title, dtype: int64\n"
     ]
    },
    {
     "data": {
      "image/png": "[encoded data removed]",
      "text/plain": [
       "<Figure size 432x288 with 1 Axes>"
      ]
     },
     "metadata": {
      "needs_background": "light"
     },
     "output_type": "display_data"
    }
   ],
   "source": [
    "train[\"Title\"] = train[\"Name\"].str.extract(\"([A-Za-z]+)\\.\")\n",
    "print(train[\"Title\"].value_counts())\n",
    "#remove everything below master (exluding)\n",
    "train[\"Title\"].replace([\"Dr\", \"Rev\", \"Major\", \"Col\", \"Sir\", \"Capt\",  \"Jonkheer\", \"Lady\", \"Don\"\n",
    "                       , \"Countess\"], \"Rare\", inplace=True)\n",
    "\n",
    "train[\"Title\"].replace(\"Mlle\", \"Miss\", inplace=True)\n",
    "train[\"Title\"].replace(\"Mme\", \"Mrs\", inplace=True)\n",
    "train[\"Title\"].replace(\"Ms\", \"Miss\", inplace=True)\n",
    "train[[\"Survived\",\"Title\"]].groupby(\"Title\").mean().plot(kind = \"bar\")\n",
    "train.drop(\"Name\", axis = 1, inplace=True)\n",
    "# so if Mr then very low chance to survive\n"
   ]
  },
  {
   "cell_type": "code",
   "execution_count": 588,
   "metadata": {},
   "outputs": [
    {
     "name": "stdout",
     "output_type": "stream",
     "text": [
      "     Survived  Pclass  Sex   Age  SibSp  Parch      Fare Embarked  isAlone  \\\n",
      "0           0       3    0  22.0      1      0    7.2500        S        1   \n",
      "1           1       1    1  38.0      1      0   71.2833        C        1   \n",
      "2           1       3    1  26.0      0      0    7.9250        S        0   \n",
      "3           1       1    1  35.0      1      0   53.1000        S        1   \n",
      "4           0       3    0  35.0      0      0    8.0500        S        0   \n",
      "5           0       3    0   NaN      0      0    8.4583        Q        0   \n",
      "6           0       1    0  54.0      0      0   51.8625        S        0   \n",
      "7           0       3    0   2.0      3      1   21.0750        S        1   \n",
      "8           1       3    1  27.0      0      2   11.1333        S        1   \n",
      "9           1       2    1  14.0      1      0   30.0708        C        1   \n",
      "10          1       3    1   4.0      1      1   16.7000        S        1   \n",
      "11          1       1    1  58.0      0      0   26.5500        S        0   \n",
      "12          0       3    0  20.0      0      0    8.0500        S        0   \n",
      "13          0       3    0  39.0      1      5   31.2750        S        1   \n",
      "14          0       3    1  14.0      0      0    7.8542        S        0   \n",
      "15          1       2    1  55.0      0      0   16.0000        S        0   \n",
      "16          0       3    0   2.0      4      1   29.1250        Q        1   \n",
      "17          1       2    0   NaN      0      0   13.0000        S        0   \n",
      "18          0       3    1  31.0      1      0   18.0000        S        1   \n",
      "19          1       3    1   NaN      0      0    7.2250        C        0   \n",
      "20          0       2    0  35.0      0      0   26.0000        S        0   \n",
      "21          1       2    0  34.0      0      0   13.0000        S        0   \n",
      "22          1       3    1  15.0      0      0    8.0292        Q        0   \n",
      "23          1       1    0  28.0      0      0   35.5000        S        0   \n",
      "24          0       3    1   8.0      3      1   21.0750        S        1   \n",
      "25          1       3    1  38.0      1      5   31.3875        S        1   \n",
      "26          0       3    0   NaN      0      0    7.2250        C        0   \n",
      "27          0       1    0  19.0      3      2  263.0000        S        1   \n",
      "28          1       3    1   NaN      0      0    7.8792        Q        0   \n",
      "29          0       3    0   NaN      0      0    7.8958        S        0   \n",
      "..        ...     ...  ...   ...    ...    ...       ...      ...      ...   \n",
      "861         0       2    0  21.0      1      0   11.5000        S        1   \n",
      "862         1       1    1  48.0      0      0   25.9292        S        0   \n",
      "863         0       3    1   NaN      8      2   69.5500        S        1   \n",
      "864         0       2    0  24.0      0      0   13.0000        S        0   \n",
      "865         1       2    1  42.0      0      0   13.0000        S        0   \n",
      "866         1       2    1  27.0      1      0   13.8583        C        1   \n",
      "867         0       1    0  31.0      0      0   50.4958        S        0   \n",
      "868         0       3    0   NaN      0      0    9.5000        S        0   \n",
      "869         1       3    0   4.0      1      1   11.1333        S        1   \n",
      "870         0       3    0  26.0      0      0    7.8958        S        0   \n",
      "871         1       1    1  47.0      1      1   52.5542        S        1   \n",
      "872         0       1    0  33.0      0      0    5.0000        S        0   \n",
      "873         0       3    0  47.0      0      0    9.0000        S        0   \n",
      "874         1       2    1  28.0      1      0   24.0000        C        1   \n",
      "875         1       3    1  15.0      0      0    7.2250        C        0   \n",
      "876         0       3    0  20.0      0      0    9.8458        S        0   \n",
      "877         0       3    0  19.0      0      0    7.8958        S        0   \n",
      "878         0       3    0   NaN      0      0    7.8958        S        0   \n",
      "879         1       1    1  56.0      0      1   83.1583        C        1   \n",
      "880         1       2    1  25.0      0      1   26.0000        S        1   \n",
      "881         0       3    0  33.0      0      0    7.8958        S        0   \n",
      "882         0       3    1  22.0      0      0   10.5167        S        0   \n",
      "883         0       2    0  28.0      0      0   10.5000        S        0   \n",
      "884         0       3    0  25.0      0      0    7.0500        S        0   \n",
      "885         0       3    1  39.0      0      5   29.1250        Q        1   \n",
      "886         0       2    0  27.0      0      0   13.0000        S        0   \n",
      "887         1       1    1  19.0      0      0   30.0000        S        0   \n",
      "888         0       3    1   NaN      1      2   23.4500        S        1   \n",
      "889         1       1    0  26.0      0      0   30.0000        C        0   \n",
      "890         0       3    0  32.0      0      0    7.7500        Q        0   \n",
      "\n",
      "     Title  \n",
      "0      0.0  \n",
      "1      3.0  \n",
      "2      2.0  \n",
      "3      3.0  \n",
      "4      0.0  \n",
      "5      0.0  \n",
      "6      0.0  \n",
      "7      1.0  \n",
      "8      3.0  \n",
      "9      3.0  \n",
      "10     2.0  \n",
      "11     2.0  \n",
      "12     0.0  \n",
      "13     0.0  \n",
      "14     2.0  \n",
      "15     3.0  \n",
      "16     1.0  \n",
      "17     0.0  \n",
      "18     3.0  \n",
      "19     3.0  \n",
      "20     0.0  \n",
      "21     0.0  \n",
      "22     2.0  \n",
      "23     0.0  \n",
      "24     2.0  \n",
      "25     3.0  \n",
      "26     0.0  \n",
      "27     0.0  \n",
      "28     2.0  \n",
      "29     0.0  \n",
      "..     ...  \n",
      "861    0.0  \n",
      "862    3.0  \n",
      "863    2.0  \n",
      "864    0.0  \n",
      "865    3.0  \n",
      "866    2.0  \n",
      "867    0.0  \n",
      "868    0.0  \n",
      "869    1.0  \n",
      "870    0.0  \n",
      "871    3.0  \n",
      "872    0.0  \n",
      "873    0.0  \n",
      "874    3.0  \n",
      "875    2.0  \n",
      "876    0.0  \n",
      "877    0.0  \n",
      "878    0.0  \n",
      "879    3.0  \n",
      "880    3.0  \n",
      "881    0.0  \n",
      "882    2.0  \n",
      "883    0.0  \n",
      "884    0.0  \n",
      "885    3.0  \n",
      "886    NaN  \n",
      "887    2.0  \n",
      "888    2.0  \n",
      "889    0.0  \n",
      "890    0.0  \n",
      "\n",
      "[891 rows x 10 columns]\n"
     ]
    }
   ],
   "source": [
    "train[\"Sex\"] = train[\"Sex\"].map({\"male\": 0, \"female\": 1})\n",
    "train[\"Title\"] = train[\"Title\"].map({\"Mr\": 0, \"Master\": 1, \"Miss\": 2, \"Mrs\":3})\n",
    "print(train)"
   ]
  },
  {
   "cell_type": "code",
   "execution_count": 616,
   "metadata": {},
   "outputs": [
    {
     "name": "stdout",
     "output_type": "stream",
     "text": [
      "<class 'pandas.core.frame.DataFrame'>\n",
      "RangeIndex: 891 entries, 0 to 890\n",
      "Data columns (total 10 columns):\n",
      "Survived    891 non-null int64\n",
      "Pclass      891 non-null int64\n",
      "Sex         891 non-null object\n",
      "Age         714 non-null float64\n",
      "SibSp       891 non-null int64\n",
      "Parch       891 non-null int64\n",
      "Fare        891 non-null float64\n",
      "Embarked    889 non-null object\n",
      "isAlone     891 non-null int64\n",
      "Title       891 non-null object\n",
      "dtypes: float64(2), int64(5), object(3)\n",
      "memory usage: 69.7+ KB\n"
     ]
    },
    {
     "data": {
      "text/plain": [
       "<seaborn.axisgrid.FacetGrid at 0x125de0090>"
      ]
     },
     "execution_count": 616,
     "metadata": {},
     "output_type": "execute_result"
    },
    {
     "data": {
      "image/png": "[encoded data removed]",
      "text/plain": [
       "<Figure size 432x288 with 2 Axes>"
      ]
     },
     "metadata": {
      "needs_background": "light"
     },
     "output_type": "display_data"
    },
    {
     "data": {
      "image/png": "[encoded data removed]",
      "text/plain": [
       "<Figure size 432x648 with 6 Axes>"
      ]
     },
     "metadata": {
      "needs_background": "light"
     },
     "output_type": "display_data"
    }
   ],
   "source": [
    "train.info()\n",
    "#Need to fill in values for Name, Age and Embarked\n",
    "sns.heatmap(train[[\"Survived\", \"isAlone\", \"Age\", \"Fare\", \"Pclass\"]].corr(), annot=True, cmap = \"coolwarm\")\n",
    "g = sns.FacetGrid(col = \"Sex\", row = \"Pclass\", data=train)\n",
    "g.map(plt.hist, \"Age\")\n",
    "#isAlone and Pclass most correlated with Age. Fill it in with median of 4 groups\n",
    "#Note want to keep as many data points as possible"
   ]
  },
  {
   "cell_type": "code",
   "execution_count": 590,
   "metadata": {},
   "outputs": [],
   "source": [
    "guess_age = np.zeros((2,3))\n",
    "for i in range(2):\n",
    "    for j in range(3):\n",
    "        guess_age[i,j] = int(train.loc[(train[\"Age\"].notnull()) & (train[\"Sex\"] == i) & (train[\"Pclass\"] == j+1), \"Age\"].median())\n",
    "        train.loc[(train[\"Age\"].isnull()) & (train[\"Sex\"] == i) & (train[\"Pclass\"] == j+1), \"Age\"] = guess_age[i,j]\n"
   ]
  },
  {
   "cell_type": "code",
   "execution_count": 591,
   "metadata": {},
   "outputs": [
    {
     "data": {
      "image/png": "[encoded data removed]",
      "text/plain": [
       "<Figure size 432x288 with 1 Axes>"
      ]
     },
     "metadata": {
      "needs_background": "light"
     },
     "output_type": "display_data"
    }
   ],
   "source": [
    "#Numeric variables we have are: Parch, SibSp, Age and Fare. \n",
    "#Use Tukey Method to remove these\n",
    "from collections import Counter\n",
    "train[\"Age\"].plot(kind = \"box\", patch_artist=True)\n",
    "\n",
    "outlier_indices = []\n",
    "for feature in [\"Parch\", \"SibSp\", \"Age\", \"Fare\"]:\n",
    "    Q1 = np.quantile(train[feature], 0.25)\n",
    "    Q3 = np.quantile(train[feature], 0.75)\n",
    "    \n",
    "    IQR = Q3-Q1 \n",
    "    outlier_indices += train.loc[(train[feature] < Q1-1.5*IQR) | (train[feature] > Q3+1.5*IQR), feature].index.tolist()\n",
    "    \n",
    "counter = Counter(outlier_indices)\n",
    "outlier_indices = [k for k,v in counter.items() if v >= 3] #find 13 outliers. Remove them!\n",
    "train.drop(outlier_indices, axis = 0, inplace=True)\n"
   ]
  },
  {
   "cell_type": "code",
   "execution_count": 592,
   "metadata": {},
   "outputs": [],
   "source": [
    "train.drop([\"Parch\",\"SibSp\"], axis=1, inplace=True) #inplace means change this dataframe"
   ]
  },
  {
   "cell_type": "code",
   "execution_count": 593,
   "metadata": {},
   "outputs": [],
   "source": [
    "#only 2 missing values for embarked so take most frequent one\n",
    "mode = train[\"Embarked\"].dropna().mode()[0]\n",
    "mean_fare = train[\"Fare\"].mean()\n",
    "train.loc[train[\"Embarked\"].isnull(), \"Embarked\"] = mode\n",
    "train[\"Embarked\"] = train[\"Embarked\"].map({\"S\":0, \"C\":1, \"Q\":2})\n"
   ]
  },
  {
   "cell_type": "code",
   "execution_count": 594,
   "metadata": {},
   "outputs": [
    {
     "name": "stdout",
     "output_type": "stream",
     "text": [
      "<class 'pandas.core.frame.DataFrame'>\n",
      "Int64Index: 878 entries, 0 to 890\n",
      "Data columns (total 8 columns):\n",
      "Survived    878 non-null int64\n",
      "Pclass      878 non-null int64\n",
      "Sex         878 non-null int64\n",
      "Age         878 non-null float64\n",
      "Fare        878 non-null float64\n",
      "Embarked    878 non-null int64\n",
      "isAlone     878 non-null int64\n",
      "Title       856 non-null float64\n",
      "dtypes: float64(3), int64(5)\n",
      "memory usage: 61.7 KB\n"
     ]
    }
   ],
   "source": [
    "train.info()\n",
    "#For title: if Male take Mr and if Female take Miss"
   ]
  },
  {
   "cell_type": "code",
   "execution_count": 595,
   "metadata": {},
   "outputs": [],
   "source": [
    "train.loc[train[\"Title\"].isnull() & train[\"Sex\"] == 0, \"Title\"] = 0\n",
    "train.loc[train[\"Title\"].isnull() & train[\"Sex\"] == 1, \"Title\"] = 2\n",
    "\n"
   ]
  },
  {
   "cell_type": "code",
   "execution_count": null,
   "metadata": {},
   "outputs": [],
   "source": []
  },
  {
   "cell_type": "code",
   "execution_count": 596,
   "metadata": {},
   "outputs": [],
   "source": [
    "# NOW NEED TO FIX DATA IN TEST SET ALSO!!\n",
    "# Note can't use this test set to check further for correlation between\n",
    "# features because that would be cheating. When want to fill in \n",
    "#missing data that should be done using train set\n",
    "X_test = test.copy()\n",
    "temp = (X_test[\"Parch\"] > 0) | (X_test[\"SibSp\"] > 0)\n",
    "X_test[\"isAlone\"] = temp*1\n",
    "\n",
    "X_test[\"Title\"] = X_test[\"Name\"].str.extract(\"([A-Za-z]+)\\.\")\n",
    "X_test[\"Title\"].replace([\"Dr\", \"Rev\", \"Major\", \"Col\", \"Sir\", \"Capt\",  \"Jonkheer\", \"Lady\", \"Don\"\n",
    "                       , \"Countess\"], \"Rare\", inplace=True)\n",
    "\n",
    "X_test[\"Title\"].replace(\"Mlle\", \"Miss\", inplace=True)\n",
    "X_test[\"Title\"].replace(\"Mme\", \"Mrs\", inplace=True)\n",
    "X_test[\"Title\"].replace(\"Ms\", \"Miss\", inplace=True)\n",
    "X_test[\"Sex\"] = X_test[\"Sex\"].map({\"male\": 0, \"female\": 1})\n",
    "X_test[\"Title\"] = X_test[\"Title\"].map({\"Mr\": 0, \"Master\": 1, \"Miss\": 2, \"Mrs\":3})\n",
    "X_test.loc[X_test[\"Title\"].isnull() & X_test[\"Sex\"] == 0, \"Title\"] = 0\n",
    "X_test.loc[X_test[\"Title\"].isnull() & X_test[\"Sex\"] == 1, \"Title\"] = 2\n",
    "\n",
    "X_test.drop([\"Name\", \"Cabin\", \"Ticket\", \"Parch\", \"SibSp\", \"PassengerId\"], axis = 1, inplace=True)\n",
    "for i in range(2):\n",
    "    for j in range(3):\n",
    "        X_test.loc[(test[\"Age\"].isnull()) & (X_test[\"Sex\"] == i) & (X_test[\"Pclass\"] == j+1), \"Age\"] = guess_age[i,j]\n",
    "        \n",
    "X_test.loc[test[\"Embarked\"].isnull(), \"Embarked\"] = mode\n",
    "X_test[\"Embarked\"] = X_test[\"Embarked\"].map({\"S\":0, \"C\":1, \"Q\":2})\n",
    "X_test[\"Fare\"] = mean_fare\n",
    "\n"
   ]
  },
  {
   "cell_type": "code",
   "execution_count": 564,
   "metadata": {},
   "outputs": [
    {
     "name": "stdout",
     "output_type": "stream",
     "text": [
      "<class 'pandas.core.frame.DataFrame'>\n",
      "RangeIndex: 418 entries, 0 to 417\n",
      "Data columns (total 7 columns):\n",
      "Pclass      418 non-null int64\n",
      "Sex         418 non-null int64\n",
      "Age         418 non-null float64\n",
      "Fare        418 non-null float64\n",
      "Embarked    418 non-null int64\n",
      "isAlone     418 non-null int64\n",
      "Title       418 non-null float64\n",
      "dtypes: float64(3), int64(4)\n",
      "memory usage: 22.9 KB\n"
     ]
    },
    {
     "data": {
      "text/html": [
       "<div>\n",
       "<style scoped>\n",
       "    .dataframe tbody tr th:only-of-type {\n",
       "        vertical-align: middle;\n",
       "    }\n",
       "\n",
       "    .dataframe tbody tr th {\n",
       "        vertical-align: top;\n",
       "    }\n",
       "\n",
       "    .dataframe thead th {\n",
       "        text-align: right;\n",
       "    }\n",
       "</style>\n",
       "<table border=\"1\" class=\"dataframe\">\n",
       "  <thead>\n",
       "    <tr style=\"text-align: right;\">\n",
       "      <th></th>\n",
       "      <th>Pclass</th>\n",
       "      <th>Sex</th>\n",
       "      <th>Age</th>\n",
       "      <th>Fare</th>\n",
       "      <th>Embarked</th>\n",
       "      <th>isAlone</th>\n",
       "      <th>Title</th>\n",
       "    </tr>\n",
       "  </thead>\n",
       "  <tbody>\n",
       "    <tr>\n",
       "      <th>0</th>\n",
       "      <td>3</td>\n",
       "      <td>0</td>\n",
       "      <td>34.5</td>\n",
       "      <td>30.757288</td>\n",
       "      <td>2</td>\n",
       "      <td>0</td>\n",
       "      <td>0.0</td>\n",
       "    </tr>\n",
       "    <tr>\n",
       "      <th>1</th>\n",
       "      <td>3</td>\n",
       "      <td>1</td>\n",
       "      <td>47.0</td>\n",
       "      <td>30.757288</td>\n",
       "      <td>0</td>\n",
       "      <td>1</td>\n",
       "      <td>0.0</td>\n",
       "    </tr>\n",
       "    <tr>\n",
       "      <th>2</th>\n",
       "      <td>2</td>\n",
       "      <td>0</td>\n",
       "      <td>62.0</td>\n",
       "      <td>30.757288</td>\n",
       "      <td>2</td>\n",
       "      <td>0</td>\n",
       "      <td>0.0</td>\n",
       "    </tr>\n",
       "    <tr>\n",
       "      <th>3</th>\n",
       "      <td>3</td>\n",
       "      <td>0</td>\n",
       "      <td>27.0</td>\n",
       "      <td>30.757288</td>\n",
       "      <td>0</td>\n",
       "      <td>0</td>\n",
       "      <td>0.0</td>\n",
       "    </tr>\n",
       "    <tr>\n",
       "      <th>4</th>\n",
       "      <td>3</td>\n",
       "      <td>1</td>\n",
       "      <td>22.0</td>\n",
       "      <td>30.757288</td>\n",
       "      <td>0</td>\n",
       "      <td>1</td>\n",
       "      <td>0.0</td>\n",
       "    </tr>\n",
       "    <tr>\n",
       "      <th>5</th>\n",
       "      <td>3</td>\n",
       "      <td>0</td>\n",
       "      <td>14.0</td>\n",
       "      <td>30.757288</td>\n",
       "      <td>0</td>\n",
       "      <td>0</td>\n",
       "      <td>0.0</td>\n",
       "    </tr>\n",
       "    <tr>\n",
       "      <th>6</th>\n",
       "      <td>3</td>\n",
       "      <td>1</td>\n",
       "      <td>30.0</td>\n",
       "      <td>30.757288</td>\n",
       "      <td>2</td>\n",
       "      <td>0</td>\n",
       "      <td>0.0</td>\n",
       "    </tr>\n",
       "    <tr>\n",
       "      <th>7</th>\n",
       "      <td>2</td>\n",
       "      <td>0</td>\n",
       "      <td>26.0</td>\n",
       "      <td>30.757288</td>\n",
       "      <td>0</td>\n",
       "      <td>1</td>\n",
       "      <td>0.0</td>\n",
       "    </tr>\n",
       "    <tr>\n",
       "      <th>8</th>\n",
       "      <td>3</td>\n",
       "      <td>1</td>\n",
       "      <td>18.0</td>\n",
       "      <td>30.757288</td>\n",
       "      <td>1</td>\n",
       "      <td>0</td>\n",
       "      <td>0.0</td>\n",
       "    </tr>\n",
       "    <tr>\n",
       "      <th>9</th>\n",
       "      <td>3</td>\n",
       "      <td>0</td>\n",
       "      <td>21.0</td>\n",
       "      <td>30.757288</td>\n",
       "      <td>0</td>\n",
       "      <td>1</td>\n",
       "      <td>0.0</td>\n",
       "    </tr>\n",
       "    <tr>\n",
       "      <th>10</th>\n",
       "      <td>3</td>\n",
       "      <td>0</td>\n",
       "      <td>25.0</td>\n",
       "      <td>30.757288</td>\n",
       "      <td>0</td>\n",
       "      <td>0</td>\n",
       "      <td>0.0</td>\n",
       "    </tr>\n",
       "    <tr>\n",
       "      <th>11</th>\n",
       "      <td>1</td>\n",
       "      <td>0</td>\n",
       "      <td>46.0</td>\n",
       "      <td>30.757288</td>\n",
       "      <td>0</td>\n",
       "      <td>0</td>\n",
       "      <td>0.0</td>\n",
       "    </tr>\n",
       "    <tr>\n",
       "      <th>12</th>\n",
       "      <td>1</td>\n",
       "      <td>1</td>\n",
       "      <td>23.0</td>\n",
       "      <td>30.757288</td>\n",
       "      <td>0</td>\n",
       "      <td>1</td>\n",
       "      <td>0.0</td>\n",
       "    </tr>\n",
       "    <tr>\n",
       "      <th>13</th>\n",
       "      <td>2</td>\n",
       "      <td>0</td>\n",
       "      <td>63.0</td>\n",
       "      <td>30.757288</td>\n",
       "      <td>0</td>\n",
       "      <td>1</td>\n",
       "      <td>0.0</td>\n",
       "    </tr>\n",
       "    <tr>\n",
       "      <th>14</th>\n",
       "      <td>1</td>\n",
       "      <td>1</td>\n",
       "      <td>47.0</td>\n",
       "      <td>30.757288</td>\n",
       "      <td>0</td>\n",
       "      <td>1</td>\n",
       "      <td>0.0</td>\n",
       "    </tr>\n",
       "    <tr>\n",
       "      <th>15</th>\n",
       "      <td>2</td>\n",
       "      <td>1</td>\n",
       "      <td>24.0</td>\n",
       "      <td>30.757288</td>\n",
       "      <td>1</td>\n",
       "      <td>1</td>\n",
       "      <td>0.0</td>\n",
       "    </tr>\n",
       "    <tr>\n",
       "      <th>16</th>\n",
       "      <td>2</td>\n",
       "      <td>0</td>\n",
       "      <td>35.0</td>\n",
       "      <td>30.757288</td>\n",
       "      <td>2</td>\n",
       "      <td>0</td>\n",
       "      <td>0.0</td>\n",
       "    </tr>\n",
       "    <tr>\n",
       "      <th>17</th>\n",
       "      <td>3</td>\n",
       "      <td>0</td>\n",
       "      <td>21.0</td>\n",
       "      <td>30.757288</td>\n",
       "      <td>1</td>\n",
       "      <td>0</td>\n",
       "      <td>0.0</td>\n",
       "    </tr>\n",
       "    <tr>\n",
       "      <th>18</th>\n",
       "      <td>3</td>\n",
       "      <td>1</td>\n",
       "      <td>27.0</td>\n",
       "      <td>30.757288</td>\n",
       "      <td>0</td>\n",
       "      <td>1</td>\n",
       "      <td>0.0</td>\n",
       "    </tr>\n",
       "    <tr>\n",
       "      <th>19</th>\n",
       "      <td>3</td>\n",
       "      <td>1</td>\n",
       "      <td>45.0</td>\n",
       "      <td>30.757288</td>\n",
       "      <td>1</td>\n",
       "      <td>0</td>\n",
       "      <td>0.0</td>\n",
       "    </tr>\n",
       "    <tr>\n",
       "      <th>20</th>\n",
       "      <td>1</td>\n",
       "      <td>0</td>\n",
       "      <td>55.0</td>\n",
       "      <td>30.757288</td>\n",
       "      <td>1</td>\n",
       "      <td>1</td>\n",
       "      <td>0.0</td>\n",
       "    </tr>\n",
       "    <tr>\n",
       "      <th>21</th>\n",
       "      <td>3</td>\n",
       "      <td>0</td>\n",
       "      <td>9.0</td>\n",
       "      <td>30.757288</td>\n",
       "      <td>0</td>\n",
       "      <td>1</td>\n",
       "      <td>0.0</td>\n",
       "    </tr>\n",
       "    <tr>\n",
       "      <th>22</th>\n",
       "      <td>1</td>\n",
       "      <td>1</td>\n",
       "      <td>35.0</td>\n",
       "      <td>30.757288</td>\n",
       "      <td>0</td>\n",
       "      <td>0</td>\n",
       "      <td>0.0</td>\n",
       "    </tr>\n",
       "    <tr>\n",
       "      <th>23</th>\n",
       "      <td>1</td>\n",
       "      <td>0</td>\n",
       "      <td>21.0</td>\n",
       "      <td>30.757288</td>\n",
       "      <td>1</td>\n",
       "      <td>1</td>\n",
       "      <td>0.0</td>\n",
       "    </tr>\n",
       "    <tr>\n",
       "      <th>24</th>\n",
       "      <td>1</td>\n",
       "      <td>1</td>\n",
       "      <td>48.0</td>\n",
       "      <td>30.757288</td>\n",
       "      <td>1</td>\n",
       "      <td>1</td>\n",
       "      <td>0.0</td>\n",
       "    </tr>\n",
       "    <tr>\n",
       "      <th>25</th>\n",
       "      <td>3</td>\n",
       "      <td>0</td>\n",
       "      <td>50.0</td>\n",
       "      <td>30.757288</td>\n",
       "      <td>0</td>\n",
       "      <td>1</td>\n",
       "      <td>0.0</td>\n",
       "    </tr>\n",
       "    <tr>\n",
       "      <th>26</th>\n",
       "      <td>1</td>\n",
       "      <td>1</td>\n",
       "      <td>22.0</td>\n",
       "      <td>30.757288</td>\n",
       "      <td>1</td>\n",
       "      <td>1</td>\n",
       "      <td>0.0</td>\n",
       "    </tr>\n",
       "    <tr>\n",
       "      <th>27</th>\n",
       "      <td>3</td>\n",
       "      <td>0</td>\n",
       "      <td>22.5</td>\n",
       "      <td>30.757288</td>\n",
       "      <td>1</td>\n",
       "      <td>0</td>\n",
       "      <td>0.0</td>\n",
       "    </tr>\n",
       "    <tr>\n",
       "      <th>28</th>\n",
       "      <td>1</td>\n",
       "      <td>0</td>\n",
       "      <td>41.0</td>\n",
       "      <td>30.757288</td>\n",
       "      <td>0</td>\n",
       "      <td>0</td>\n",
       "      <td>0.0</td>\n",
       "    </tr>\n",
       "    <tr>\n",
       "      <th>29</th>\n",
       "      <td>3</td>\n",
       "      <td>0</td>\n",
       "      <td>25.0</td>\n",
       "      <td>30.757288</td>\n",
       "      <td>1</td>\n",
       "      <td>1</td>\n",
       "      <td>0.0</td>\n",
       "    </tr>\n",
       "    <tr>\n",
       "      <th>...</th>\n",
       "      <td>...</td>\n",
       "      <td>...</td>\n",
       "      <td>...</td>\n",
       "      <td>...</td>\n",
       "      <td>...</td>\n",
       "      <td>...</td>\n",
       "      <td>...</td>\n",
       "    </tr>\n",
       "    <tr>\n",
       "      <th>388</th>\n",
       "      <td>3</td>\n",
       "      <td>0</td>\n",
       "      <td>21.0</td>\n",
       "      <td>30.757288</td>\n",
       "      <td>2</td>\n",
       "      <td>0</td>\n",
       "      <td>0.0</td>\n",
       "    </tr>\n",
       "    <tr>\n",
       "      <th>389</th>\n",
       "      <td>3</td>\n",
       "      <td>0</td>\n",
       "      <td>6.0</td>\n",
       "      <td>30.757288</td>\n",
       "      <td>0</td>\n",
       "      <td>1</td>\n",
       "      <td>0.0</td>\n",
       "    </tr>\n",
       "    <tr>\n",
       "      <th>390</th>\n",
       "      <td>1</td>\n",
       "      <td>0</td>\n",
       "      <td>23.0</td>\n",
       "      <td>30.757288</td>\n",
       "      <td>0</td>\n",
       "      <td>0</td>\n",
       "      <td>0.0</td>\n",
       "    </tr>\n",
       "    <tr>\n",
       "      <th>391</th>\n",
       "      <td>1</td>\n",
       "      <td>1</td>\n",
       "      <td>51.0</td>\n",
       "      <td>30.757288</td>\n",
       "      <td>0</td>\n",
       "      <td>1</td>\n",
       "      <td>0.0</td>\n",
       "    </tr>\n",
       "    <tr>\n",
       "      <th>392</th>\n",
       "      <td>3</td>\n",
       "      <td>0</td>\n",
       "      <td>13.0</td>\n",
       "      <td>30.757288</td>\n",
       "      <td>0</td>\n",
       "      <td>1</td>\n",
       "      <td>0.0</td>\n",
       "    </tr>\n",
       "    <tr>\n",
       "      <th>393</th>\n",
       "      <td>2</td>\n",
       "      <td>0</td>\n",
       "      <td>47.0</td>\n",
       "      <td>30.757288</td>\n",
       "      <td>0</td>\n",
       "      <td>0</td>\n",
       "      <td>0.0</td>\n",
       "    </tr>\n",
       "    <tr>\n",
       "      <th>394</th>\n",
       "      <td>3</td>\n",
       "      <td>0</td>\n",
       "      <td>29.0</td>\n",
       "      <td>30.757288</td>\n",
       "      <td>0</td>\n",
       "      <td>1</td>\n",
       "      <td>0.0</td>\n",
       "    </tr>\n",
       "    <tr>\n",
       "      <th>395</th>\n",
       "      <td>1</td>\n",
       "      <td>1</td>\n",
       "      <td>18.0</td>\n",
       "      <td>30.757288</td>\n",
       "      <td>0</td>\n",
       "      <td>1</td>\n",
       "      <td>0.0</td>\n",
       "    </tr>\n",
       "    <tr>\n",
       "      <th>396</th>\n",
       "      <td>3</td>\n",
       "      <td>0</td>\n",
       "      <td>24.0</td>\n",
       "      <td>30.757288</td>\n",
       "      <td>2</td>\n",
       "      <td>0</td>\n",
       "      <td>0.0</td>\n",
       "    </tr>\n",
       "    <tr>\n",
       "      <th>397</th>\n",
       "      <td>1</td>\n",
       "      <td>1</td>\n",
       "      <td>48.0</td>\n",
       "      <td>30.757288</td>\n",
       "      <td>1</td>\n",
       "      <td>1</td>\n",
       "      <td>0.0</td>\n",
       "    </tr>\n",
       "    <tr>\n",
       "      <th>398</th>\n",
       "      <td>3</td>\n",
       "      <td>0</td>\n",
       "      <td>22.0</td>\n",
       "      <td>30.757288</td>\n",
       "      <td>0</td>\n",
       "      <td>0</td>\n",
       "      <td>0.0</td>\n",
       "    </tr>\n",
       "    <tr>\n",
       "      <th>399</th>\n",
       "      <td>3</td>\n",
       "      <td>0</td>\n",
       "      <td>31.0</td>\n",
       "      <td>30.757288</td>\n",
       "      <td>2</td>\n",
       "      <td>0</td>\n",
       "      <td>0.0</td>\n",
       "    </tr>\n",
       "    <tr>\n",
       "      <th>400</th>\n",
       "      <td>1</td>\n",
       "      <td>1</td>\n",
       "      <td>30.0</td>\n",
       "      <td>30.757288</td>\n",
       "      <td>0</td>\n",
       "      <td>0</td>\n",
       "      <td>0.0</td>\n",
       "    </tr>\n",
       "    <tr>\n",
       "      <th>401</th>\n",
       "      <td>2</td>\n",
       "      <td>0</td>\n",
       "      <td>38.0</td>\n",
       "      <td>30.757288</td>\n",
       "      <td>0</td>\n",
       "      <td>1</td>\n",
       "      <td>0.0</td>\n",
       "    </tr>\n",
       "    <tr>\n",
       "      <th>402</th>\n",
       "      <td>1</td>\n",
       "      <td>1</td>\n",
       "      <td>22.0</td>\n",
       "      <td>30.757288</td>\n",
       "      <td>1</td>\n",
       "      <td>1</td>\n",
       "      <td>0.0</td>\n",
       "    </tr>\n",
       "    <tr>\n",
       "      <th>403</th>\n",
       "      <td>1</td>\n",
       "      <td>0</td>\n",
       "      <td>17.0</td>\n",
       "      <td>30.757288</td>\n",
       "      <td>0</td>\n",
       "      <td>0</td>\n",
       "      <td>0.0</td>\n",
       "    </tr>\n",
       "    <tr>\n",
       "      <th>404</th>\n",
       "      <td>1</td>\n",
       "      <td>0</td>\n",
       "      <td>43.0</td>\n",
       "      <td>30.757288</td>\n",
       "      <td>1</td>\n",
       "      <td>1</td>\n",
       "      <td>0.0</td>\n",
       "    </tr>\n",
       "    <tr>\n",
       "      <th>405</th>\n",
       "      <td>2</td>\n",
       "      <td>0</td>\n",
       "      <td>20.0</td>\n",
       "      <td>30.757288</td>\n",
       "      <td>1</td>\n",
       "      <td>0</td>\n",
       "      <td>0.0</td>\n",
       "    </tr>\n",
       "    <tr>\n",
       "      <th>406</th>\n",
       "      <td>2</td>\n",
       "      <td>0</td>\n",
       "      <td>23.0</td>\n",
       "      <td>30.757288</td>\n",
       "      <td>0</td>\n",
       "      <td>1</td>\n",
       "      <td>0.0</td>\n",
       "    </tr>\n",
       "    <tr>\n",
       "      <th>407</th>\n",
       "      <td>1</td>\n",
       "      <td>0</td>\n",
       "      <td>50.0</td>\n",
       "      <td>30.757288</td>\n",
       "      <td>1</td>\n",
       "      <td>1</td>\n",
       "      <td>0.0</td>\n",
       "    </tr>\n",
       "    <tr>\n",
       "      <th>408</th>\n",
       "      <td>3</td>\n",
       "      <td>1</td>\n",
       "      <td>21.0</td>\n",
       "      <td>30.757288</td>\n",
       "      <td>2</td>\n",
       "      <td>0</td>\n",
       "      <td>0.0</td>\n",
       "    </tr>\n",
       "    <tr>\n",
       "      <th>409</th>\n",
       "      <td>3</td>\n",
       "      <td>1</td>\n",
       "      <td>3.0</td>\n",
       "      <td>30.757288</td>\n",
       "      <td>0</td>\n",
       "      <td>1</td>\n",
       "      <td>0.0</td>\n",
       "    </tr>\n",
       "    <tr>\n",
       "      <th>410</th>\n",
       "      <td>3</td>\n",
       "      <td>1</td>\n",
       "      <td>21.0</td>\n",
       "      <td>30.757288</td>\n",
       "      <td>2</td>\n",
       "      <td>0</td>\n",
       "      <td>0.0</td>\n",
       "    </tr>\n",
       "    <tr>\n",
       "      <th>411</th>\n",
       "      <td>1</td>\n",
       "      <td>1</td>\n",
       "      <td>37.0</td>\n",
       "      <td>30.757288</td>\n",
       "      <td>2</td>\n",
       "      <td>1</td>\n",
       "      <td>0.0</td>\n",
       "    </tr>\n",
       "    <tr>\n",
       "      <th>412</th>\n",
       "      <td>3</td>\n",
       "      <td>1</td>\n",
       "      <td>28.0</td>\n",
       "      <td>30.757288</td>\n",
       "      <td>0</td>\n",
       "      <td>0</td>\n",
       "      <td>0.0</td>\n",
       "    </tr>\n",
       "    <tr>\n",
       "      <th>413</th>\n",
       "      <td>3</td>\n",
       "      <td>0</td>\n",
       "      <td>25.0</td>\n",
       "      <td>30.757288</td>\n",
       "      <td>0</td>\n",
       "      <td>0</td>\n",
       "      <td>0.0</td>\n",
       "    </tr>\n",
       "    <tr>\n",
       "      <th>414</th>\n",
       "      <td>1</td>\n",
       "      <td>1</td>\n",
       "      <td>39.0</td>\n",
       "      <td>30.757288</td>\n",
       "      <td>1</td>\n",
       "      <td>0</td>\n",
       "      <td>2.0</td>\n",
       "    </tr>\n",
       "    <tr>\n",
       "      <th>415</th>\n",
       "      <td>3</td>\n",
       "      <td>0</td>\n",
       "      <td>38.5</td>\n",
       "      <td>30.757288</td>\n",
       "      <td>0</td>\n",
       "      <td>0</td>\n",
       "      <td>0.0</td>\n",
       "    </tr>\n",
       "    <tr>\n",
       "      <th>416</th>\n",
       "      <td>3</td>\n",
       "      <td>0</td>\n",
       "      <td>25.0</td>\n",
       "      <td>30.757288</td>\n",
       "      <td>0</td>\n",
       "      <td>0</td>\n",
       "      <td>0.0</td>\n",
       "    </tr>\n",
       "    <tr>\n",
       "      <th>417</th>\n",
       "      <td>3</td>\n",
       "      <td>0</td>\n",
       "      <td>25.0</td>\n",
       "      <td>30.757288</td>\n",
       "      <td>1</td>\n",
       "      <td>1</td>\n",
       "      <td>0.0</td>\n",
       "    </tr>\n",
       "  </tbody>\n",
       "</table>\n",
       "<p>418 rows × 7 columns</p>\n",
       "</div>"
      ],
      "text/plain": [
       "     Pclass  Sex   Age       Fare  Embarked  isAlone  Title\n",
       "0         3    0  34.5  30.757288         2        0    0.0\n",
       "1         3    1  47.0  30.757288         0        1    0.0\n",
       "2         2    0  62.0  30.757288         2        0    0.0\n",
       "3         3    0  27.0  30.757288         0        0    0.0\n",
       "4         3    1  22.0  30.757288         0        1    0.0\n",
       "5         3    0  14.0  30.757288         0        0    0.0\n",
       "6         3    1  30.0  30.757288         2        0    0.0\n",
       "7         2    0  26.0  30.757288         0        1    0.0\n",
       "8         3    1  18.0  30.757288         1        0    0.0\n",
       "9         3    0  21.0  30.757288         0        1    0.0\n",
       "10        3    0  25.0  30.757288         0        0    0.0\n",
       "11        1    0  46.0  30.757288         0        0    0.0\n",
       "12        1    1  23.0  30.757288         0        1    0.0\n",
       "13        2    0  63.0  30.757288         0        1    0.0\n",
       "14        1    1  47.0  30.757288         0        1    0.0\n",
       "15        2    1  24.0  30.757288         1        1    0.0\n",
       "16        2    0  35.0  30.757288         2        0    0.0\n",
       "17        3    0  21.0  30.757288         1        0    0.0\n",
       "18        3    1  27.0  30.757288         0        1    0.0\n",
       "19        3    1  45.0  30.757288         1        0    0.0\n",
       "20        1    0  55.0  30.757288         1        1    0.0\n",
       "21        3    0   9.0  30.757288         0        1    0.0\n",
       "22        1    1  35.0  30.757288         0        0    0.0\n",
       "23        1    0  21.0  30.757288         1        1    0.0\n",
       "24        1    1  48.0  30.757288         1        1    0.0\n",
       "25        3    0  50.0  30.757288         0        1    0.0\n",
       "26        1    1  22.0  30.757288         1        1    0.0\n",
       "27        3    0  22.5  30.757288         1        0    0.0\n",
       "28        1    0  41.0  30.757288         0        0    0.0\n",
       "29        3    0  25.0  30.757288         1        1    0.0\n",
       "..      ...  ...   ...        ...       ...      ...    ...\n",
       "388       3    0  21.0  30.757288         2        0    0.0\n",
       "389       3    0   6.0  30.757288         0        1    0.0\n",
       "390       1    0  23.0  30.757288         0        0    0.0\n",
       "391       1    1  51.0  30.757288         0        1    0.0\n",
       "392       3    0  13.0  30.757288         0        1    0.0\n",
       "393       2    0  47.0  30.757288         0        0    0.0\n",
       "394       3    0  29.0  30.757288         0        1    0.0\n",
       "395       1    1  18.0  30.757288         0        1    0.0\n",
       "396       3    0  24.0  30.757288         2        0    0.0\n",
       "397       1    1  48.0  30.757288         1        1    0.0\n",
       "398       3    0  22.0  30.757288         0        0    0.0\n",
       "399       3    0  31.0  30.757288         2        0    0.0\n",
       "400       1    1  30.0  30.757288         0        0    0.0\n",
       "401       2    0  38.0  30.757288         0        1    0.0\n",
       "402       1    1  22.0  30.757288         1        1    0.0\n",
       "403       1    0  17.0  30.757288         0        0    0.0\n",
       "404       1    0  43.0  30.757288         1        1    0.0\n",
       "405       2    0  20.0  30.757288         1        0    0.0\n",
       "406       2    0  23.0  30.757288         0        1    0.0\n",
       "407       1    0  50.0  30.757288         1        1    0.0\n",
       "408       3    1  21.0  30.757288         2        0    0.0\n",
       "409       3    1   3.0  30.757288         0        1    0.0\n",
       "410       3    1  21.0  30.757288         2        0    0.0\n",
       "411       1    1  37.0  30.757288         2        1    0.0\n",
       "412       3    1  28.0  30.757288         0        0    0.0\n",
       "413       3    0  25.0  30.757288         0        0    0.0\n",
       "414       1    1  39.0  30.757288         1        0    2.0\n",
       "415       3    0  38.5  30.757288         0        0    0.0\n",
       "416       3    0  25.0  30.757288         0        0    0.0\n",
       "417       3    0  25.0  30.757288         1        1    0.0\n",
       "\n",
       "[418 rows x 7 columns]"
      ]
     },
     "execution_count": 564,
     "metadata": {},
     "output_type": "execute_result"
    }
   ],
   "source": [
    "X_test.info()\n",
    "X_test"
   ]
  },
  {
   "cell_type": "code",
   "execution_count": 445,
   "metadata": {},
   "outputs": [
    {
     "name": "stdout",
     "output_type": "stream",
     "text": [
      "0.9797979797979798\n",
      "0.8092031425364759\n"
     ]
    }
   ],
   "source": [
    "from sklearn.ensemble import RandomForestClassifier\n",
    "\n",
    "X_train = train.drop(\"Survived\", axis=1)\n",
    "Y_train = train[\"Survived\"]\n",
    "\n",
    "RFC = RandomForestClassifier(n_estimators = 100, oob_score=True)\n",
    "RFC.fit(X_train, Y_train)\n",
    "print(RFC.score(X_train, Y_train)) #meaningless since have trained on this\n",
    "print(RFC.oob_score_) #more accurate approx of test eror but should do k-fold for more exact\n",
    "\n"
   ]
  },
  {
   "cell_type": "code",
   "execution_count": 597,
   "metadata": {},
   "outputs": [
    {
     "name": "stderr",
     "output_type": "stream",
     "text": [
      "/usr/local/lib/python3.7/site-packages/sklearn/model_selection/_search.py:841: DeprecationWarning: The default of the `iid` parameter will change from True to False in version 0.22 and will be removed in 0.24. This will change numeric results when test-set sizes are unequal.\n",
      "  DeprecationWarning)\n"
     ]
    },
    {
     "data": {
      "text/plain": [
       "GridSearchCV(cv=10, error_score='raise-deprecating',\n",
       "       estimator=RandomForestClassifier(bootstrap=True, class_weight=None, criterion='gini',\n",
       "            max_depth=None, max_features='auto', max_leaf_nodes=None,\n",
       "            min_impurity_decrease=0.0, min_impurity_split=None,\n",
       "            min_samples_leaf=1, min_samples_split=2,\n",
       "            min_weight_fraction_leaf=0.0, n_estimators='warn', n_jobs=None,\n",
       "            oob_score=False, random_state=None, verbose=0,\n",
       "            warm_start=False),\n",
       "       fit_params=None, iid='warn', n_jobs=None,\n",
       "       param_grid={'n_estimators': [300, 500, 750, 1000, 1500], 'max_features': [5, 6, 7]},\n",
       "       pre_dispatch='2*n_jobs', refit=True, return_train_score='warn',\n",
       "       scoring='accuracy', verbose=0)"
      ]
     },
     "execution_count": 597,
     "metadata": {},
     "output_type": "execute_result"
    }
   ],
   "source": [
    "from sklearn.model_selection import GridSearchCV\n",
    "RFC = RandomForestClassifier()\n",
    "params = {\"n_estimators\": [300, 500, 750, 1000, 1500],\n",
    "            \"max_features\": [5, 6, 7]}\n",
    "\n",
    "gs = GridSearchCV(RFC, scoring = \"accuracy\", cv = 10, param_grid = params)\n",
    "gs.fit(X_train, Y_train)\n"
   ]
  },
  {
   "cell_type": "code",
   "execution_count": 571,
   "metadata": {},
   "outputs": [
    {
     "name": "stdout",
     "output_type": "stream",
     "text": [
      "{'max_features': 6, 'n_estimators': 750}\n",
      "0.8237934904601572\n"
     ]
    }
   ],
   "source": [
    "print(gs.best_params_)\n",
    "print(gs.best_score_)\n"
   ]
  },
  {
   "cell_type": "code",
   "execution_count": 572,
   "metadata": {},
   "outputs": [],
   "source": [
    "RFC = RandomForestClassifier(n_estimators = 750, max_features = 6)\n",
    "RFC.fit(X_train, Y_train)\n",
    "importances = RFC.feature_importances_\n",
    "importances = importances/np.sum(np.array(importances))\n",
    "\n",
    "cols = [\"Pclass\", \"Sex\", \"Age\", \"Fare\", \"Embarked\", \"isAlone\", \"Title\"]\n",
    "\n",
    "pred = RFC.predict(X_train)"
   ]
  },
  {
   "cell_type": "code",
   "execution_count": 573,
   "metadata": {},
   "outputs": [
    {
     "data": {
      "text/plain": [
       "<BarContainer object of 7 artists>"
      ]
     },
     "execution_count": 573,
     "metadata": {},
     "output_type": "execute_result"
    },
    {
     "data": {
      "image/png": "[encoded data removed]",
      "text/plain": [
       "<Figure size 432x288 with 1 Axes>"
      ]
     },
     "metadata": {
      "needs_background": "light"
     },
     "output_type": "display_data"
    }
   ],
   "source": [
    "\n",
    "plt.bar(cols, importances)\n",
    "#so looks like most important variables are sex, age and fare."
   ]
  },
  {
   "cell_type": "code",
   "execution_count": 574,
   "metadata": {},
   "outputs": [],
   "source": [
    "preds = RFC.predict(X_test)\n",
    "submit = pd.DataFrame({\"PassengerId\": test[\"PassengerId\"], \"Survived\": preds})\n",
    "submit.to_csv(\"/Users/andreas/Documents/workspace/kaggle/titanic/submit.csv\", index=False) #don't include indices\n"
   ]
  },
  {
   "cell_type": "code",
   "execution_count": null,
   "metadata": {},
   "outputs": [],
   "source": [
    "submit"
   ]
  },
  {
   "cell_type": "code",
   "execution_count": 565,
   "metadata": {},
   "outputs": [
    {
     "data": {
      "text/plain": [
       "GridSearchCV(cv=10, error_score='raise-deprecating',\n",
       "       estimator=AdaBoostClassifier(algorithm='SAMME.R',\n",
       "          base_estimator=DecisionTreeClassifier(class_weight=None, criterion='gini', max_depth=1,\n",
       "            max_features=None, max_leaf_nodes=None,\n",
       "            min_impurity_decrease=0.0, min_impurity_split=None,\n",
       "            min_samples_leaf=1, min_samples_split=2,\n",
       "            min_weight_fraction_leaf=0.0, presort=False, random_state=None,\n",
       "            splitter='best'),\n",
       "          learning_rate=1.0, n_estimators=50, random_state=None),\n",
       "       fit_params=None, iid='warn', n_jobs=None,\n",
       "       param_grid={'n_estimators': [50, 100, 300, 500], 'learning_rate': [0.1, 0.3, 0.5, 0.7, 1.0, 1.5]},\n",
       "       pre_dispatch='2*n_jobs', refit=True, return_train_score='warn',\n",
       "       scoring='accuracy', verbose=0)"
      ]
     },
     "execution_count": 565,
     "metadata": {},
     "output_type": "execute_result"
    }
   ],
   "source": [
    "##Lets try AdaBoost instead. Remember this is sensitive to outliers\n",
    "from sklearn.ensemble import AdaBoostClassifier\n",
    "from sklearn.tree import DecisionTreeClassifier\n",
    "\n",
    "DTC = DecisionTreeClassifier(max_depth = 1)\n",
    "ADA = AdaBoostClassifier(DTC)\n",
    "params = {\"n_estimators\": [50, 100, 300, 500],\n",
    "          \"learning_rate\": [0.1, 0.3, 0.5, 0.7, 1.0, 1.5]}\n",
    "\n",
    "\n",
    "gs = GridSearchCV(ADA, cv = 10, param_grid = params, scoring = \"accuracy\")\n",
    "gs.fit(X_train, Y_train)\n"
   ]
  },
  {
   "cell_type": "code",
   "execution_count": 567,
   "metadata": {},
   "outputs": [
    {
     "name": "stdout",
     "output_type": "stream",
     "text": [
      "{'learning_rate': 1.0, 'n_estimators': 100}\n",
      "0.8237934904601572\n"
     ]
    }
   ],
   "source": [
    "print(gs.best_params_)\n",
    "print(gs.best_score_)"
   ]
  },
  {
   "cell_type": "code",
   "execution_count": 569,
   "metadata": {},
   "outputs": [],
   "source": [
    "DTC = DecisionTreeClassifier(max_depth = 1)\n",
    "ADA = AdaBoostClassifier(DTC, n_estimators = 100, learning_rate = 1.0)\n",
    "ADA.fit(X_train, Y_train)\n",
    "preds = RFC.predict(X_test)\n",
    "submit = pd.DataFrame({\"PassengerId\": test[\"PassengerId\"], \"Survived\": preds})\n",
    "submit.to_csv(\"/Users/andreas/Documents/workspace/kaggle/titanic/submit.csv\", index=False) #don't include indices\n"
   ]
  },
  {
   "cell_type": "code",
   "execution_count": null,
   "metadata": {},
   "outputs": [],
   "source": []
  }
 ],
 "metadata": {
  "kernelspec": {
   "display_name": "Python 3",
   "language": "python",
   "name": "python3"
  },
  "language_info": {
   "codemirror_mode": {
    "name": "ipython",
    "version": 3
   },
   "file_extension": ".py",
   "mimetype": "text/x-python",
   "name": "python",
   "nbconvert_exporter": "python",
   "pygments_lexer": "ipython3",
   "version": "3.7.5"
  }
 },
 "nbformat": 4,
 "nbformat_minor": 2
}
